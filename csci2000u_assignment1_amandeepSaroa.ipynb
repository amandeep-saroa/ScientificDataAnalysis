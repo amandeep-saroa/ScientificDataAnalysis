{
 "cells": [
  {
   "cell_type": "markdown",
   "id": "ca7b4c50",
   "metadata": {},
   "source": [
    "# <font color='purple'>&emsp;&emsp;&emsp;&emsp;&emsp;&emsp;&emsp;&emsp;&emsp;Fall2022:     Assignment 1- CSCI2000U</font>\n",
    "\n",
    "\n",
    "## Description:\n",
    " \n",
    "<font color='green'>*In this assignment, you will examine a data science problem of your choice. What data set and \n",
    "analyses you choose to do are up to you. Your project must satisfy the following requirements:* <br><br> \n",
    "</font>\n",
    "\n",
    "## Requirments:\n",
    "\n",
    "\n",
    "1. <font color='red'>**Incorporate the key aspects of the data science workflow.** </font> <br> \n",
    "2. <font color='red'>**Explore one or more questions.** </font> <br>\n",
    "3. <font color='red'>**Be communicated in the form of a Jupyter Notebook.** </font> <br>\n",
    "</b>\n",
    "<br>\n",
    "</font>\n",
    "\n",
    "## Submission information \n",
    "\n",
    "Due date: <font color='red'>November 27th, 2022.</font> Submission closes at 11:59pm.<br>\n",
    "Format: 1x Jupyter notebook (.ipynb).<br>\n",
    "</p>\n",
    "<br>\n",
    "<br>\n",
    "<br>\n",
    "\n",
    "### <font color='blue'>*&emsp;&emsp;&emsp;&emsp;&emsp;&emsp;&emsp;&emsp;&emsp;&emsp;&emsp;&emsp;&emsp;&emsp;&emsp;&emsp;&emsp;&emsp;&emsp;Author Name: Amandeep Saroa*</font>\n",
    "### <font color='blue'>*&emsp;&emsp;&emsp;&emsp;&emsp;&emsp;&emsp;&emsp;&emsp;&emsp;&emsp;&emsp;&emsp;&emsp;&emsp;&emsp;&emsp;&emsp;&emsp;&emsp;&emsp;Student ID: 100836651*</font>"
   ]
  },
  {
   "cell_type": "markdown",
   "id": "c36bd705",
   "metadata": {},
   "source": [
    "# Introduction\n",
    "\n",
    "<font color='brown'>**<font color='brown'>Illness related to heart are called as CardioVascular disease.<font color='black'>[1]</font> Cardio vascular disease are increasing in numbers through out the world and number of reported death's by CVD is also increasing at a faster rate.Most of the deaths are due to heart attack and stroke.<font color='black'>[2]</font> Ther are many risk facotor that causes heart diseases some of them are controllable and some are not. Controlable factors include Unhealthy Blood Pressure(Hypertension or Hypotension) , Unhealthy Blood Sugar levels(Diabetes) , not adequate physical Activity and more.<font color='black'>[3]</font> This all factors are depended on Lifestyle of a person like person's diet , activity level , stress level etc.I selected this topic for my assignment to figure out what could be the major risk factor in causing Heart Disease.<br>This Assignment includes Exploratory Data Analysis using numpy , pandas , matplotlib and seaborn to make analysis (visual and Statistical).\n",
    "</font>** \n",
    "</font>\n",
    "\n",
    "# Dataset\n",
    "**<font color='brown'>I am using one dataset for this Assignment. I got this dataset from kaggle(open access datasets)<br> link: https://www.kaggle.com/datasets/fedesoriano/heart-failure-prediction<br>This dataset have 12 features(Columns) out of which 11 variabels are the major factor of Heart Disease.\n",
    "We will use these factors to perform our Data Analysis concept that we did in our Lectures so far.</font>** \n",
    "\n",
    "\n",
    "# Outline\n",
    "**<font color='grey'>1. How data is Distributed (Normal , left skewed , Right Skewed) for different Variables.<br><br>2. Make relationship between variables(factors) how they affect one another(Correlation concept's).<br><br>3. Try to predict who is more vulnarable to Heart Diseases (1 = Male or 0 = Female)<br><br>4. Will Include Graphs and make conclusion out of it.</font>** "
   ]
  },
  {
   "cell_type": "markdown",
   "id": "525237bb",
   "metadata": {},
   "source": [
    "**Important Imports**"
   ]
  },
  {
   "cell_type": "code",
   "execution_count": 1,
   "id": "138e4e63",
   "metadata": {},
   "outputs": [],
   "source": [
    "import numpy as np  # math\n",
    "import matplotlib.pyplot as plt # plots\n",
    "import seaborn as sns # plots\n",
    "import pandas as pd # dataframe"
   ]
  },
  {
   "cell_type": "markdown",
   "id": "7f0de432",
   "metadata": {},
   "source": [
    "### >&emsp; Getting Information about our dataset like total number of rows, total number of columns, datatype of each column and memory requirements"
   ]
  },
  {
   "cell_type": "code",
   "execution_count": 2,
   "id": "304662bb",
   "metadata": {},
   "outputs": [],
   "source": [
    "# reading csv file\n",
    "data = pd.read_csv('heart.csv')"
   ]
  },
  {
   "cell_type": "code",
   "execution_count": 3,
   "id": "65ac1323",
   "metadata": {
    "scrolled": true
   },
   "outputs": [
    {
     "data": {
      "text/html": [
       "<div>\n",
       "<style scoped>\n",
       "    .dataframe tbody tr th:only-of-type {\n",
       "        vertical-align: middle;\n",
       "    }\n",
       "\n",
       "    .dataframe tbody tr th {\n",
       "        vertical-align: top;\n",
       "    }\n",
       "\n",
       "    .dataframe thead th {\n",
       "        text-align: right;\n",
       "    }\n",
       "</style>\n",
       "<table border=\"1\" class=\"dataframe\">\n",
       "  <thead>\n",
       "    <tr style=\"text-align: right;\">\n",
       "      <th></th>\n",
       "      <th>Age</th>\n",
       "      <th>Sex</th>\n",
       "      <th>ChestPainType</th>\n",
       "      <th>RestingBP</th>\n",
       "      <th>Cholesterol</th>\n",
       "      <th>FastingBS</th>\n",
       "      <th>RestingECG</th>\n",
       "      <th>MaxHR</th>\n",
       "      <th>ExerciseAngina</th>\n",
       "      <th>Oldpeak</th>\n",
       "      <th>ST_Slope</th>\n",
       "      <th>HeartDisease</th>\n",
       "    </tr>\n",
       "  </thead>\n",
       "  <tbody>\n",
       "    <tr>\n",
       "      <th>0</th>\n",
       "      <td>40</td>\n",
       "      <td>M</td>\n",
       "      <td>ATA</td>\n",
       "      <td>140</td>\n",
       "      <td>289</td>\n",
       "      <td>0</td>\n",
       "      <td>Normal</td>\n",
       "      <td>172</td>\n",
       "      <td>N</td>\n",
       "      <td>0.0</td>\n",
       "      <td>Up</td>\n",
       "      <td>0</td>\n",
       "    </tr>\n",
       "    <tr>\n",
       "      <th>1</th>\n",
       "      <td>49</td>\n",
       "      <td>F</td>\n",
       "      <td>NAP</td>\n",
       "      <td>160</td>\n",
       "      <td>180</td>\n",
       "      <td>0</td>\n",
       "      <td>Normal</td>\n",
       "      <td>156</td>\n",
       "      <td>N</td>\n",
       "      <td>1.0</td>\n",
       "      <td>Flat</td>\n",
       "      <td>1</td>\n",
       "    </tr>\n",
       "    <tr>\n",
       "      <th>2</th>\n",
       "      <td>37</td>\n",
       "      <td>M</td>\n",
       "      <td>ATA</td>\n",
       "      <td>130</td>\n",
       "      <td>283</td>\n",
       "      <td>0</td>\n",
       "      <td>ST</td>\n",
       "      <td>98</td>\n",
       "      <td>N</td>\n",
       "      <td>0.0</td>\n",
       "      <td>Up</td>\n",
       "      <td>0</td>\n",
       "    </tr>\n",
       "    <tr>\n",
       "      <th>3</th>\n",
       "      <td>48</td>\n",
       "      <td>F</td>\n",
       "      <td>ASY</td>\n",
       "      <td>138</td>\n",
       "      <td>214</td>\n",
       "      <td>0</td>\n",
       "      <td>Normal</td>\n",
       "      <td>108</td>\n",
       "      <td>Y</td>\n",
       "      <td>1.5</td>\n",
       "      <td>Flat</td>\n",
       "      <td>1</td>\n",
       "    </tr>\n",
       "    <tr>\n",
       "      <th>4</th>\n",
       "      <td>54</td>\n",
       "      <td>M</td>\n",
       "      <td>NAP</td>\n",
       "      <td>150</td>\n",
       "      <td>195</td>\n",
       "      <td>0</td>\n",
       "      <td>Normal</td>\n",
       "      <td>122</td>\n",
       "      <td>N</td>\n",
       "      <td>0.0</td>\n",
       "      <td>Up</td>\n",
       "      <td>0</td>\n",
       "    </tr>\n",
       "    <tr>\n",
       "      <th>5</th>\n",
       "      <td>39</td>\n",
       "      <td>M</td>\n",
       "      <td>NAP</td>\n",
       "      <td>120</td>\n",
       "      <td>339</td>\n",
       "      <td>0</td>\n",
       "      <td>Normal</td>\n",
       "      <td>170</td>\n",
       "      <td>N</td>\n",
       "      <td>0.0</td>\n",
       "      <td>Up</td>\n",
       "      <td>0</td>\n",
       "    </tr>\n",
       "    <tr>\n",
       "      <th>6</th>\n",
       "      <td>45</td>\n",
       "      <td>F</td>\n",
       "      <td>ATA</td>\n",
       "      <td>130</td>\n",
       "      <td>237</td>\n",
       "      <td>0</td>\n",
       "      <td>Normal</td>\n",
       "      <td>170</td>\n",
       "      <td>N</td>\n",
       "      <td>0.0</td>\n",
       "      <td>Up</td>\n",
       "      <td>0</td>\n",
       "    </tr>\n",
       "    <tr>\n",
       "      <th>7</th>\n",
       "      <td>54</td>\n",
       "      <td>M</td>\n",
       "      <td>ATA</td>\n",
       "      <td>110</td>\n",
       "      <td>208</td>\n",
       "      <td>0</td>\n",
       "      <td>Normal</td>\n",
       "      <td>142</td>\n",
       "      <td>N</td>\n",
       "      <td>0.0</td>\n",
       "      <td>Up</td>\n",
       "      <td>0</td>\n",
       "    </tr>\n",
       "    <tr>\n",
       "      <th>8</th>\n",
       "      <td>37</td>\n",
       "      <td>M</td>\n",
       "      <td>ASY</td>\n",
       "      <td>140</td>\n",
       "      <td>207</td>\n",
       "      <td>0</td>\n",
       "      <td>Normal</td>\n",
       "      <td>130</td>\n",
       "      <td>Y</td>\n",
       "      <td>1.5</td>\n",
       "      <td>Flat</td>\n",
       "      <td>1</td>\n",
       "    </tr>\n",
       "    <tr>\n",
       "      <th>9</th>\n",
       "      <td>48</td>\n",
       "      <td>F</td>\n",
       "      <td>ATA</td>\n",
       "      <td>120</td>\n",
       "      <td>284</td>\n",
       "      <td>0</td>\n",
       "      <td>Normal</td>\n",
       "      <td>120</td>\n",
       "      <td>N</td>\n",
       "      <td>0.0</td>\n",
       "      <td>Up</td>\n",
       "      <td>0</td>\n",
       "    </tr>\n",
       "  </tbody>\n",
       "</table>\n",
       "</div>"
      ],
      "text/plain": [
       "   Age Sex ChestPainType  RestingBP  Cholesterol  FastingBS RestingECG  MaxHR  \\\n",
       "0   40   M           ATA        140          289          0     Normal    172   \n",
       "1   49   F           NAP        160          180          0     Normal    156   \n",
       "2   37   M           ATA        130          283          0         ST     98   \n",
       "3   48   F           ASY        138          214          0     Normal    108   \n",
       "4   54   M           NAP        150          195          0     Normal    122   \n",
       "5   39   M           NAP        120          339          0     Normal    170   \n",
       "6   45   F           ATA        130          237          0     Normal    170   \n",
       "7   54   M           ATA        110          208          0     Normal    142   \n",
       "8   37   M           ASY        140          207          0     Normal    130   \n",
       "9   48   F           ATA        120          284          0     Normal    120   \n",
       "\n",
       "  ExerciseAngina  Oldpeak ST_Slope  HeartDisease  \n",
       "0              N      0.0       Up             0  \n",
       "1              N      1.0     Flat             1  \n",
       "2              N      0.0       Up             0  \n",
       "3              Y      1.5     Flat             1  \n",
       "4              N      0.0       Up             0  \n",
       "5              N      0.0       Up             0  \n",
       "6              N      0.0       Up             0  \n",
       "7              N      0.0       Up             0  \n",
       "8              Y      1.5     Flat             1  \n",
       "9              N      0.0       Up             0  "
      ]
     },
     "execution_count": 3,
     "metadata": {},
     "output_type": "execute_result"
    }
   ],
   "source": [
    "# Display top 10 rows of Data\n",
    "data.head(10)"
   ]
  },
  {
   "cell_type": "code",
   "execution_count": 4,
   "id": "b0de013d",
   "metadata": {},
   "outputs": [
    {
     "data": {
      "text/html": [
       "<div>\n",
       "<style scoped>\n",
       "    .dataframe tbody tr th:only-of-type {\n",
       "        vertical-align: middle;\n",
       "    }\n",
       "\n",
       "    .dataframe tbody tr th {\n",
       "        vertical-align: top;\n",
       "    }\n",
       "\n",
       "    .dataframe thead th {\n",
       "        text-align: right;\n",
       "    }\n",
       "</style>\n",
       "<table border=\"1\" class=\"dataframe\">\n",
       "  <thead>\n",
       "    <tr style=\"text-align: right;\">\n",
       "      <th></th>\n",
       "      <th>Age</th>\n",
       "      <th>Sex</th>\n",
       "      <th>ChestPainType</th>\n",
       "      <th>RestingBP</th>\n",
       "      <th>Cholesterol</th>\n",
       "      <th>FastingBS</th>\n",
       "      <th>RestingECG</th>\n",
       "      <th>MaxHR</th>\n",
       "      <th>ExerciseAngina</th>\n",
       "      <th>Oldpeak</th>\n",
       "      <th>ST_Slope</th>\n",
       "      <th>HeartDisease</th>\n",
       "    </tr>\n",
       "  </thead>\n",
       "  <tbody>\n",
       "    <tr>\n",
       "      <th>908</th>\n",
       "      <td>63</td>\n",
       "      <td>M</td>\n",
       "      <td>ASY</td>\n",
       "      <td>140</td>\n",
       "      <td>187</td>\n",
       "      <td>0</td>\n",
       "      <td>LVH</td>\n",
       "      <td>144</td>\n",
       "      <td>Y</td>\n",
       "      <td>4.0</td>\n",
       "      <td>Up</td>\n",
       "      <td>1</td>\n",
       "    </tr>\n",
       "    <tr>\n",
       "      <th>909</th>\n",
       "      <td>63</td>\n",
       "      <td>F</td>\n",
       "      <td>ASY</td>\n",
       "      <td>124</td>\n",
       "      <td>197</td>\n",
       "      <td>0</td>\n",
       "      <td>Normal</td>\n",
       "      <td>136</td>\n",
       "      <td>Y</td>\n",
       "      <td>0.0</td>\n",
       "      <td>Flat</td>\n",
       "      <td>1</td>\n",
       "    </tr>\n",
       "    <tr>\n",
       "      <th>910</th>\n",
       "      <td>41</td>\n",
       "      <td>M</td>\n",
       "      <td>ATA</td>\n",
       "      <td>120</td>\n",
       "      <td>157</td>\n",
       "      <td>0</td>\n",
       "      <td>Normal</td>\n",
       "      <td>182</td>\n",
       "      <td>N</td>\n",
       "      <td>0.0</td>\n",
       "      <td>Up</td>\n",
       "      <td>0</td>\n",
       "    </tr>\n",
       "    <tr>\n",
       "      <th>911</th>\n",
       "      <td>59</td>\n",
       "      <td>M</td>\n",
       "      <td>ASY</td>\n",
       "      <td>164</td>\n",
       "      <td>176</td>\n",
       "      <td>1</td>\n",
       "      <td>LVH</td>\n",
       "      <td>90</td>\n",
       "      <td>N</td>\n",
       "      <td>1.0</td>\n",
       "      <td>Flat</td>\n",
       "      <td>1</td>\n",
       "    </tr>\n",
       "    <tr>\n",
       "      <th>912</th>\n",
       "      <td>57</td>\n",
       "      <td>F</td>\n",
       "      <td>ASY</td>\n",
       "      <td>140</td>\n",
       "      <td>241</td>\n",
       "      <td>0</td>\n",
       "      <td>Normal</td>\n",
       "      <td>123</td>\n",
       "      <td>Y</td>\n",
       "      <td>0.2</td>\n",
       "      <td>Flat</td>\n",
       "      <td>1</td>\n",
       "    </tr>\n",
       "    <tr>\n",
       "      <th>913</th>\n",
       "      <td>45</td>\n",
       "      <td>M</td>\n",
       "      <td>TA</td>\n",
       "      <td>110</td>\n",
       "      <td>264</td>\n",
       "      <td>0</td>\n",
       "      <td>Normal</td>\n",
       "      <td>132</td>\n",
       "      <td>N</td>\n",
       "      <td>1.2</td>\n",
       "      <td>Flat</td>\n",
       "      <td>1</td>\n",
       "    </tr>\n",
       "    <tr>\n",
       "      <th>914</th>\n",
       "      <td>68</td>\n",
       "      <td>M</td>\n",
       "      <td>ASY</td>\n",
       "      <td>144</td>\n",
       "      <td>193</td>\n",
       "      <td>1</td>\n",
       "      <td>Normal</td>\n",
       "      <td>141</td>\n",
       "      <td>N</td>\n",
       "      <td>3.4</td>\n",
       "      <td>Flat</td>\n",
       "      <td>1</td>\n",
       "    </tr>\n",
       "    <tr>\n",
       "      <th>915</th>\n",
       "      <td>57</td>\n",
       "      <td>M</td>\n",
       "      <td>ASY</td>\n",
       "      <td>130</td>\n",
       "      <td>131</td>\n",
       "      <td>0</td>\n",
       "      <td>Normal</td>\n",
       "      <td>115</td>\n",
       "      <td>Y</td>\n",
       "      <td>1.2</td>\n",
       "      <td>Flat</td>\n",
       "      <td>1</td>\n",
       "    </tr>\n",
       "    <tr>\n",
       "      <th>916</th>\n",
       "      <td>57</td>\n",
       "      <td>F</td>\n",
       "      <td>ATA</td>\n",
       "      <td>130</td>\n",
       "      <td>236</td>\n",
       "      <td>0</td>\n",
       "      <td>LVH</td>\n",
       "      <td>174</td>\n",
       "      <td>N</td>\n",
       "      <td>0.0</td>\n",
       "      <td>Flat</td>\n",
       "      <td>1</td>\n",
       "    </tr>\n",
       "    <tr>\n",
       "      <th>917</th>\n",
       "      <td>38</td>\n",
       "      <td>M</td>\n",
       "      <td>NAP</td>\n",
       "      <td>138</td>\n",
       "      <td>175</td>\n",
       "      <td>0</td>\n",
       "      <td>Normal</td>\n",
       "      <td>173</td>\n",
       "      <td>N</td>\n",
       "      <td>0.0</td>\n",
       "      <td>Up</td>\n",
       "      <td>0</td>\n",
       "    </tr>\n",
       "  </tbody>\n",
       "</table>\n",
       "</div>"
      ],
      "text/plain": [
       "     Age Sex ChestPainType  RestingBP  Cholesterol  FastingBS RestingECG  \\\n",
       "908   63   M           ASY        140          187          0        LVH   \n",
       "909   63   F           ASY        124          197          0     Normal   \n",
       "910   41   M           ATA        120          157          0     Normal   \n",
       "911   59   M           ASY        164          176          1        LVH   \n",
       "912   57   F           ASY        140          241          0     Normal   \n",
       "913   45   M            TA        110          264          0     Normal   \n",
       "914   68   M           ASY        144          193          1     Normal   \n",
       "915   57   M           ASY        130          131          0     Normal   \n",
       "916   57   F           ATA        130          236          0        LVH   \n",
       "917   38   M           NAP        138          175          0     Normal   \n",
       "\n",
       "     MaxHR ExerciseAngina  Oldpeak ST_Slope  HeartDisease  \n",
       "908    144              Y      4.0       Up             1  \n",
       "909    136              Y      0.0     Flat             1  \n",
       "910    182              N      0.0       Up             0  \n",
       "911     90              N      1.0     Flat             1  \n",
       "912    123              Y      0.2     Flat             1  \n",
       "913    132              N      1.2     Flat             1  \n",
       "914    141              N      3.4     Flat             1  \n",
       "915    115              Y      1.2     Flat             1  \n",
       "916    174              N      0.0     Flat             1  \n",
       "917    173              N      0.0       Up             0  "
      ]
     },
     "execution_count": 4,
     "metadata": {},
     "output_type": "execute_result"
    }
   ],
   "source": [
    "# Display last 10 rows of Data\n",
    "data.tail(10)"
   ]
  },
  {
   "cell_type": "code",
   "execution_count": 5,
   "id": "9634c809",
   "metadata": {},
   "outputs": [
    {
     "name": "stdout",
     "output_type": "stream",
     "text": [
      "There are total of 918 Rows in the data set.\n",
      "There are total of 12 Columns in the data set.\n"
     ]
    }
   ],
   "source": [
    "# Get to know the shape of the data\n",
    "r = data.shape[0]\n",
    "c = data.shape[1]\n",
    "\n",
    "print(f\"There are total of {r} Rows in the data set.\")\n",
    "print(f\"There are total of {c} Columns in the data set.\")"
   ]
  },
  {
   "cell_type": "markdown",
   "id": "820c40a6",
   "metadata": {},
   "source": [
    "**We Can say that the data set contains the data of <font color='brown'>918 - 1 = 917</font> individuals and It have 12 Risk Facotrs that is our 'Variables' listed along Column.**"
   ]
  },
  {
   "cell_type": "markdown",
   "id": "7013139e",
   "metadata": {},
   "source": [
    "## Getting more Information about Data set & Data Cleaning"
   ]
  },
  {
   "cell_type": "code",
   "execution_count": 6,
   "id": "5a6c8124",
   "metadata": {
    "scrolled": true
   },
   "outputs": [
    {
     "name": "stdout",
     "output_type": "stream",
     "text": [
      "<class 'pandas.core.frame.DataFrame'>\n",
      "RangeIndex: 918 entries, 0 to 917\n",
      "Data columns (total 12 columns):\n",
      " #   Column          Non-Null Count  Dtype  \n",
      "---  ------          --------------  -----  \n",
      " 0   Age             918 non-null    int64  \n",
      " 1   Sex             918 non-null    object \n",
      " 2   ChestPainType   918 non-null    object \n",
      " 3   RestingBP       918 non-null    int64  \n",
      " 4   Cholesterol     918 non-null    int64  \n",
      " 5   FastingBS       918 non-null    int64  \n",
      " 6   RestingECG      918 non-null    object \n",
      " 7   MaxHR           918 non-null    int64  \n",
      " 8   ExerciseAngina  918 non-null    object \n",
      " 9   Oldpeak         918 non-null    float64\n",
      " 10  ST_Slope        918 non-null    object \n",
      " 11  HeartDisease    918 non-null    int64  \n",
      "dtypes: float64(1), int64(6), object(5)\n",
      "memory usage: 86.2+ KB\n"
     ]
    }
   ],
   "source": [
    "data.info()"
   ]
  },
  {
   "cell_type": "markdown",
   "id": "791e7cc4",
   "metadata": {},
   "source": [
    "**a) Checking Any Missing value present in data set**"
   ]
  },
  {
   "cell_type": "code",
   "execution_count": 7,
   "id": "25261f13",
   "metadata": {},
   "outputs": [
    {
     "name": "stdout",
     "output_type": "stream",
     "text": [
      "Any Missing value? False\n"
     ]
    }
   ],
   "source": [
    "print(\"Any Missing value?\", data.isnull().values.any())"
   ]
  },
  {
   "cell_type": "markdown",
   "id": "305335b0",
   "metadata": {},
   "source": [
    "**b) Checking for duplicates present in Data**"
   ]
  },
  {
   "cell_type": "code",
   "execution_count": 8,
   "id": "519a6e5f",
   "metadata": {},
   "outputs": [
    {
     "name": "stdout",
     "output_type": "stream",
     "text": [
      "Any Duplicate value? False\n"
     ]
    }
   ],
   "source": [
    "dub_data = data.duplicated().any()\n",
    "print(\"Any Duplicate value?\" , dub_data)"
   ]
  },
  {
   "cell_type": "markdown",
   "id": "79065818",
   "metadata": {},
   "source": [
    "**c) Data set have <font color='brown'>no Missing value and no duplicates</font> so now just convert the object data type to int so that data set is ready to be analyzed\n",
    "Variable <font color='brown'> 'Sex' , 'ChestPainType' , 'RestingECG' , 'ExerciseAngina' , 'ST_Slope' </font> these all are objects converting them to Int**"
   ]
  },
  {
   "cell_type": "code",
   "execution_count": 9,
   "id": "cbe04d4a",
   "metadata": {
    "scrolled": false
   },
   "outputs": [],
   "source": [
    "data.Sex.replace({'M' : 1 , 'F' : 0} , inplace = True)\n",
    "data.ChestPainType.replace({'ASY' : 0 , 'ATA' : 1 , 'NAP': 2 , 'TA' : 3} , inplace = True)\n",
    "data.RestingECG.replace({'LVH' : 0 , 'Normal' : 1 , 'ST' : 2} , inplace = True)\n",
    "data.ST_Slope.replace({'Down': 0 , 'Flat' : 1 , 'Up' : 2} , inplace = True)\n",
    "data.ExerciseAngina.replace({'N': 0 , 'Y' : 1} , inplace = True)"
   ]
  },
  {
   "cell_type": "markdown",
   "id": "7e4d6d84",
   "metadata": {},
   "source": [
    "### Data Cleaning Is Complete following is the final data set"
   ]
  },
  {
   "cell_type": "code",
   "execution_count": 10,
   "id": "62518e73",
   "metadata": {
    "scrolled": false
   },
   "outputs": [
    {
     "name": "stdout",
     "output_type": "stream",
     "text": [
      "Final Data Set on which Data Analysis Concept will be performed:\n"
     ]
    },
    {
     "data": {
      "text/html": [
       "<div>\n",
       "<style scoped>\n",
       "    .dataframe tbody tr th:only-of-type {\n",
       "        vertical-align: middle;\n",
       "    }\n",
       "\n",
       "    .dataframe tbody tr th {\n",
       "        vertical-align: top;\n",
       "    }\n",
       "\n",
       "    .dataframe thead th {\n",
       "        text-align: right;\n",
       "    }\n",
       "</style>\n",
       "<table border=\"1\" class=\"dataframe\">\n",
       "  <thead>\n",
       "    <tr style=\"text-align: right;\">\n",
       "      <th></th>\n",
       "      <th>Age</th>\n",
       "      <th>Sex</th>\n",
       "      <th>ChestPainType</th>\n",
       "      <th>RestingBP</th>\n",
       "      <th>Cholesterol</th>\n",
       "      <th>FastingBS</th>\n",
       "      <th>RestingECG</th>\n",
       "      <th>MaxHR</th>\n",
       "      <th>ExerciseAngina</th>\n",
       "      <th>Oldpeak</th>\n",
       "      <th>ST_Slope</th>\n",
       "      <th>HeartDisease</th>\n",
       "    </tr>\n",
       "  </thead>\n",
       "  <tbody>\n",
       "    <tr>\n",
       "      <th>0</th>\n",
       "      <td>40</td>\n",
       "      <td>1</td>\n",
       "      <td>1</td>\n",
       "      <td>140</td>\n",
       "      <td>289</td>\n",
       "      <td>0</td>\n",
       "      <td>1</td>\n",
       "      <td>172</td>\n",
       "      <td>0</td>\n",
       "      <td>0.0</td>\n",
       "      <td>2</td>\n",
       "      <td>0</td>\n",
       "    </tr>\n",
       "    <tr>\n",
       "      <th>1</th>\n",
       "      <td>49</td>\n",
       "      <td>0</td>\n",
       "      <td>2</td>\n",
       "      <td>160</td>\n",
       "      <td>180</td>\n",
       "      <td>0</td>\n",
       "      <td>1</td>\n",
       "      <td>156</td>\n",
       "      <td>0</td>\n",
       "      <td>1.0</td>\n",
       "      <td>1</td>\n",
       "      <td>1</td>\n",
       "    </tr>\n",
       "    <tr>\n",
       "      <th>2</th>\n",
       "      <td>37</td>\n",
       "      <td>1</td>\n",
       "      <td>1</td>\n",
       "      <td>130</td>\n",
       "      <td>283</td>\n",
       "      <td>0</td>\n",
       "      <td>2</td>\n",
       "      <td>98</td>\n",
       "      <td>0</td>\n",
       "      <td>0.0</td>\n",
       "      <td>2</td>\n",
       "      <td>0</td>\n",
       "    </tr>\n",
       "    <tr>\n",
       "      <th>3</th>\n",
       "      <td>48</td>\n",
       "      <td>0</td>\n",
       "      <td>0</td>\n",
       "      <td>138</td>\n",
       "      <td>214</td>\n",
       "      <td>0</td>\n",
       "      <td>1</td>\n",
       "      <td>108</td>\n",
       "      <td>1</td>\n",
       "      <td>1.5</td>\n",
       "      <td>1</td>\n",
       "      <td>1</td>\n",
       "    </tr>\n",
       "    <tr>\n",
       "      <th>4</th>\n",
       "      <td>54</td>\n",
       "      <td>1</td>\n",
       "      <td>2</td>\n",
       "      <td>150</td>\n",
       "      <td>195</td>\n",
       "      <td>0</td>\n",
       "      <td>1</td>\n",
       "      <td>122</td>\n",
       "      <td>0</td>\n",
       "      <td>0.0</td>\n",
       "      <td>2</td>\n",
       "      <td>0</td>\n",
       "    </tr>\n",
       "    <tr>\n",
       "      <th>...</th>\n",
       "      <td>...</td>\n",
       "      <td>...</td>\n",
       "      <td>...</td>\n",
       "      <td>...</td>\n",
       "      <td>...</td>\n",
       "      <td>...</td>\n",
       "      <td>...</td>\n",
       "      <td>...</td>\n",
       "      <td>...</td>\n",
       "      <td>...</td>\n",
       "      <td>...</td>\n",
       "      <td>...</td>\n",
       "    </tr>\n",
       "    <tr>\n",
       "      <th>913</th>\n",
       "      <td>45</td>\n",
       "      <td>1</td>\n",
       "      <td>3</td>\n",
       "      <td>110</td>\n",
       "      <td>264</td>\n",
       "      <td>0</td>\n",
       "      <td>1</td>\n",
       "      <td>132</td>\n",
       "      <td>0</td>\n",
       "      <td>1.2</td>\n",
       "      <td>1</td>\n",
       "      <td>1</td>\n",
       "    </tr>\n",
       "    <tr>\n",
       "      <th>914</th>\n",
       "      <td>68</td>\n",
       "      <td>1</td>\n",
       "      <td>0</td>\n",
       "      <td>144</td>\n",
       "      <td>193</td>\n",
       "      <td>1</td>\n",
       "      <td>1</td>\n",
       "      <td>141</td>\n",
       "      <td>0</td>\n",
       "      <td>3.4</td>\n",
       "      <td>1</td>\n",
       "      <td>1</td>\n",
       "    </tr>\n",
       "    <tr>\n",
       "      <th>915</th>\n",
       "      <td>57</td>\n",
       "      <td>1</td>\n",
       "      <td>0</td>\n",
       "      <td>130</td>\n",
       "      <td>131</td>\n",
       "      <td>0</td>\n",
       "      <td>1</td>\n",
       "      <td>115</td>\n",
       "      <td>1</td>\n",
       "      <td>1.2</td>\n",
       "      <td>1</td>\n",
       "      <td>1</td>\n",
       "    </tr>\n",
       "    <tr>\n",
       "      <th>916</th>\n",
       "      <td>57</td>\n",
       "      <td>0</td>\n",
       "      <td>1</td>\n",
       "      <td>130</td>\n",
       "      <td>236</td>\n",
       "      <td>0</td>\n",
       "      <td>0</td>\n",
       "      <td>174</td>\n",
       "      <td>0</td>\n",
       "      <td>0.0</td>\n",
       "      <td>1</td>\n",
       "      <td>1</td>\n",
       "    </tr>\n",
       "    <tr>\n",
       "      <th>917</th>\n",
       "      <td>38</td>\n",
       "      <td>1</td>\n",
       "      <td>2</td>\n",
       "      <td>138</td>\n",
       "      <td>175</td>\n",
       "      <td>0</td>\n",
       "      <td>1</td>\n",
       "      <td>173</td>\n",
       "      <td>0</td>\n",
       "      <td>0.0</td>\n",
       "      <td>2</td>\n",
       "      <td>0</td>\n",
       "    </tr>\n",
       "  </tbody>\n",
       "</table>\n",
       "<p>918 rows × 12 columns</p>\n",
       "</div>"
      ],
      "text/plain": [
       "     Age  Sex  ChestPainType  RestingBP  Cholesterol  FastingBS  RestingECG  \\\n",
       "0     40    1              1        140          289          0           1   \n",
       "1     49    0              2        160          180          0           1   \n",
       "2     37    1              1        130          283          0           2   \n",
       "3     48    0              0        138          214          0           1   \n",
       "4     54    1              2        150          195          0           1   \n",
       "..   ...  ...            ...        ...          ...        ...         ...   \n",
       "913   45    1              3        110          264          0           1   \n",
       "914   68    1              0        144          193          1           1   \n",
       "915   57    1              0        130          131          0           1   \n",
       "916   57    0              1        130          236          0           0   \n",
       "917   38    1              2        138          175          0           1   \n",
       "\n",
       "     MaxHR  ExerciseAngina  Oldpeak  ST_Slope  HeartDisease  \n",
       "0      172               0      0.0         2             0  \n",
       "1      156               0      1.0         1             1  \n",
       "2       98               0      0.0         2             0  \n",
       "3      108               1      1.5         1             1  \n",
       "4      122               0      0.0         2             0  \n",
       "..     ...             ...      ...       ...           ...  \n",
       "913    132               0      1.2         1             1  \n",
       "914    141               0      3.4         1             1  \n",
       "915    115               1      1.2         1             1  \n",
       "916    174               0      0.0         1             1  \n",
       "917    173               0      0.0         2             0  \n",
       "\n",
       "[918 rows x 12 columns]"
      ]
     },
     "execution_count": 10,
     "metadata": {},
     "output_type": "execute_result"
    }
   ],
   "source": [
    "print(\"Final Data Set on which Data Analysis Concept will be performed:\")\n",
    "data"
   ]
  },
  {
   "cell_type": "markdown",
   "id": "5ddcf30f",
   "metadata": {},
   "source": [
    "**d) Statistical Overview of Data**"
   ]
  },
  {
   "cell_type": "code",
   "execution_count": 11,
   "id": "c91fd6db",
   "metadata": {
    "scrolled": true
   },
   "outputs": [
    {
     "data": {
      "text/html": [
       "<div>\n",
       "<style scoped>\n",
       "    .dataframe tbody tr th:only-of-type {\n",
       "        vertical-align: middle;\n",
       "    }\n",
       "\n",
       "    .dataframe tbody tr th {\n",
       "        vertical-align: top;\n",
       "    }\n",
       "\n",
       "    .dataframe thead th {\n",
       "        text-align: right;\n",
       "    }\n",
       "</style>\n",
       "<table border=\"1\" class=\"dataframe\">\n",
       "  <thead>\n",
       "    <tr style=\"text-align: right;\">\n",
       "      <th></th>\n",
       "      <th>Age</th>\n",
       "      <th>Sex</th>\n",
       "      <th>ChestPainType</th>\n",
       "      <th>RestingBP</th>\n",
       "      <th>Cholesterol</th>\n",
       "      <th>FastingBS</th>\n",
       "      <th>RestingECG</th>\n",
       "      <th>MaxHR</th>\n",
       "      <th>ExerciseAngina</th>\n",
       "      <th>Oldpeak</th>\n",
       "      <th>ST_Slope</th>\n",
       "      <th>HeartDisease</th>\n",
       "    </tr>\n",
       "  </thead>\n",
       "  <tbody>\n",
       "    <tr>\n",
       "      <th>count</th>\n",
       "      <td>918.000000</td>\n",
       "      <td>918.000000</td>\n",
       "      <td>918.000000</td>\n",
       "      <td>918.000000</td>\n",
       "      <td>918.000000</td>\n",
       "      <td>918.000000</td>\n",
       "      <td>918.000000</td>\n",
       "      <td>918.000000</td>\n",
       "      <td>918.000000</td>\n",
       "      <td>918.000000</td>\n",
       "      <td>918.000000</td>\n",
       "      <td>918.000000</td>\n",
       "    </tr>\n",
       "    <tr>\n",
       "      <th>mean</th>\n",
       "      <td>53.510893</td>\n",
       "      <td>0.789760</td>\n",
       "      <td>0.781046</td>\n",
       "      <td>132.396514</td>\n",
       "      <td>198.799564</td>\n",
       "      <td>0.233115</td>\n",
       "      <td>0.989107</td>\n",
       "      <td>136.809368</td>\n",
       "      <td>0.404139</td>\n",
       "      <td>0.887364</td>\n",
       "      <td>1.361656</td>\n",
       "      <td>0.553377</td>\n",
       "    </tr>\n",
       "    <tr>\n",
       "      <th>std</th>\n",
       "      <td>9.432617</td>\n",
       "      <td>0.407701</td>\n",
       "      <td>0.956519</td>\n",
       "      <td>18.514154</td>\n",
       "      <td>109.384145</td>\n",
       "      <td>0.423046</td>\n",
       "      <td>0.631671</td>\n",
       "      <td>25.460334</td>\n",
       "      <td>0.490992</td>\n",
       "      <td>1.066570</td>\n",
       "      <td>0.607056</td>\n",
       "      <td>0.497414</td>\n",
       "    </tr>\n",
       "    <tr>\n",
       "      <th>min</th>\n",
       "      <td>28.000000</td>\n",
       "      <td>0.000000</td>\n",
       "      <td>0.000000</td>\n",
       "      <td>0.000000</td>\n",
       "      <td>0.000000</td>\n",
       "      <td>0.000000</td>\n",
       "      <td>0.000000</td>\n",
       "      <td>60.000000</td>\n",
       "      <td>0.000000</td>\n",
       "      <td>-2.600000</td>\n",
       "      <td>0.000000</td>\n",
       "      <td>0.000000</td>\n",
       "    </tr>\n",
       "    <tr>\n",
       "      <th>25%</th>\n",
       "      <td>47.000000</td>\n",
       "      <td>1.000000</td>\n",
       "      <td>0.000000</td>\n",
       "      <td>120.000000</td>\n",
       "      <td>173.250000</td>\n",
       "      <td>0.000000</td>\n",
       "      <td>1.000000</td>\n",
       "      <td>120.000000</td>\n",
       "      <td>0.000000</td>\n",
       "      <td>0.000000</td>\n",
       "      <td>1.000000</td>\n",
       "      <td>0.000000</td>\n",
       "    </tr>\n",
       "    <tr>\n",
       "      <th>50%</th>\n",
       "      <td>54.000000</td>\n",
       "      <td>1.000000</td>\n",
       "      <td>0.000000</td>\n",
       "      <td>130.000000</td>\n",
       "      <td>223.000000</td>\n",
       "      <td>0.000000</td>\n",
       "      <td>1.000000</td>\n",
       "      <td>138.000000</td>\n",
       "      <td>0.000000</td>\n",
       "      <td>0.600000</td>\n",
       "      <td>1.000000</td>\n",
       "      <td>1.000000</td>\n",
       "    </tr>\n",
       "    <tr>\n",
       "      <th>75%</th>\n",
       "      <td>60.000000</td>\n",
       "      <td>1.000000</td>\n",
       "      <td>2.000000</td>\n",
       "      <td>140.000000</td>\n",
       "      <td>267.000000</td>\n",
       "      <td>0.000000</td>\n",
       "      <td>1.000000</td>\n",
       "      <td>156.000000</td>\n",
       "      <td>1.000000</td>\n",
       "      <td>1.500000</td>\n",
       "      <td>2.000000</td>\n",
       "      <td>1.000000</td>\n",
       "    </tr>\n",
       "    <tr>\n",
       "      <th>max</th>\n",
       "      <td>77.000000</td>\n",
       "      <td>1.000000</td>\n",
       "      <td>3.000000</td>\n",
       "      <td>200.000000</td>\n",
       "      <td>603.000000</td>\n",
       "      <td>1.000000</td>\n",
       "      <td>2.000000</td>\n",
       "      <td>202.000000</td>\n",
       "      <td>1.000000</td>\n",
       "      <td>6.200000</td>\n",
       "      <td>2.000000</td>\n",
       "      <td>1.000000</td>\n",
       "    </tr>\n",
       "  </tbody>\n",
       "</table>\n",
       "</div>"
      ],
      "text/plain": [
       "              Age         Sex  ChestPainType   RestingBP  Cholesterol  \\\n",
       "count  918.000000  918.000000     918.000000  918.000000   918.000000   \n",
       "mean    53.510893    0.789760       0.781046  132.396514   198.799564   \n",
       "std      9.432617    0.407701       0.956519   18.514154   109.384145   \n",
       "min     28.000000    0.000000       0.000000    0.000000     0.000000   \n",
       "25%     47.000000    1.000000       0.000000  120.000000   173.250000   \n",
       "50%     54.000000    1.000000       0.000000  130.000000   223.000000   \n",
       "75%     60.000000    1.000000       2.000000  140.000000   267.000000   \n",
       "max     77.000000    1.000000       3.000000  200.000000   603.000000   \n",
       "\n",
       "        FastingBS  RestingECG       MaxHR  ExerciseAngina     Oldpeak  \\\n",
       "count  918.000000  918.000000  918.000000      918.000000  918.000000   \n",
       "mean     0.233115    0.989107  136.809368        0.404139    0.887364   \n",
       "std      0.423046    0.631671   25.460334        0.490992    1.066570   \n",
       "min      0.000000    0.000000   60.000000        0.000000   -2.600000   \n",
       "25%      0.000000    1.000000  120.000000        0.000000    0.000000   \n",
       "50%      0.000000    1.000000  138.000000        0.000000    0.600000   \n",
       "75%      0.000000    1.000000  156.000000        1.000000    1.500000   \n",
       "max      1.000000    2.000000  202.000000        1.000000    6.200000   \n",
       "\n",
       "         ST_Slope  HeartDisease  \n",
       "count  918.000000    918.000000  \n",
       "mean     1.361656      0.553377  \n",
       "std      0.607056      0.497414  \n",
       "min      0.000000      0.000000  \n",
       "25%      1.000000      0.000000  \n",
       "50%      1.000000      1.000000  \n",
       "75%      2.000000      1.000000  \n",
       "max      2.000000      1.000000  "
      ]
     },
     "execution_count": 11,
     "metadata": {},
     "output_type": "execute_result"
    }
   ],
   "source": [
    "data.describe()"
   ]
  },
  {
   "cell_type": "markdown",
   "id": "dc0b1661",
   "metadata": {},
   "source": [
    "### Understanding Stats\n",
    "**Age**\n",
    "<br>\n",
    "Average Age(mean) : ~53.5 years<br>\n",
    "Oldest Patient' age in the Dataset(max) : 77 years<br>\n",
    "Youngest Patient Age: 28 years\n",
    "<br><br>\n",
    "**Resting ECG**\n",
    "<br>\n",
    "Average Resting ECG of : ~ 1 that is Normal Resting ECG 1 = \"Normal\"\n",
    "<br><br>\n",
    "**Heart Rate's**\n",
    "<br>\n",
    "Average Heart Rate : ~ 136.8<br>\n",
    "Maximum Heart Rate: ~ 202<br>\n",
    "Minimum Heart Rate: ~ 60\n",
    "<br><br>\n",
    "**HeartDisease**\n",
    "<br>\n",
    "Here Mean is: ~ 0.55 which basically means that there is not that big difference between the count of Normal and Heartdiseased patient, but yes idicates more diseased patient than normal"
   ]
  },
  {
   "cell_type": "markdown",
   "id": "1b318126",
   "metadata": {},
   "source": [
    "### >&emsp;Statistics of Patients who have Heart Disease"
   ]
  },
  {
   "cell_type": "code",
   "execution_count": 12,
   "id": "31c2df1e",
   "metadata": {},
   "outputs": [
    {
     "data": {
      "text/html": [
       "<div>\n",
       "<style scoped>\n",
       "    .dataframe tbody tr th:only-of-type {\n",
       "        vertical-align: middle;\n",
       "    }\n",
       "\n",
       "    .dataframe tbody tr th {\n",
       "        vertical-align: top;\n",
       "    }\n",
       "\n",
       "    .dataframe thead th {\n",
       "        text-align: right;\n",
       "    }\n",
       "</style>\n",
       "<table border=\"1\" class=\"dataframe\">\n",
       "  <thead>\n",
       "    <tr style=\"text-align: right;\">\n",
       "      <th></th>\n",
       "      <th>Age</th>\n",
       "      <th>Sex</th>\n",
       "      <th>ChestPainType</th>\n",
       "      <th>RestingBP</th>\n",
       "      <th>Cholesterol</th>\n",
       "      <th>FastingBS</th>\n",
       "      <th>RestingECG</th>\n",
       "      <th>MaxHR</th>\n",
       "      <th>ExerciseAngina</th>\n",
       "      <th>Oldpeak</th>\n",
       "      <th>ST_Slope</th>\n",
       "      <th>HeartDisease</th>\n",
       "    </tr>\n",
       "  </thead>\n",
       "  <tbody>\n",
       "    <tr>\n",
       "      <th>count</th>\n",
       "      <td>508.000000</td>\n",
       "      <td>508.000000</td>\n",
       "      <td>508.000000</td>\n",
       "      <td>508.000000</td>\n",
       "      <td>508.000000</td>\n",
       "      <td>508.000000</td>\n",
       "      <td>508.000000</td>\n",
       "      <td>508.000000</td>\n",
       "      <td>508.000000</td>\n",
       "      <td>508.000000</td>\n",
       "      <td>508.000000</td>\n",
       "      <td>508.0</td>\n",
       "    </tr>\n",
       "    <tr>\n",
       "      <th>mean</th>\n",
       "      <td>55.899606</td>\n",
       "      <td>0.901575</td>\n",
       "      <td>0.448819</td>\n",
       "      <td>134.185039</td>\n",
       "      <td>175.940945</td>\n",
       "      <td>0.334646</td>\n",
       "      <td>1.021654</td>\n",
       "      <td>127.655512</td>\n",
       "      <td>0.622047</td>\n",
       "      <td>1.274213</td>\n",
       "      <td>1.057087</td>\n",
       "      <td>1.0</td>\n",
       "    </tr>\n",
       "    <tr>\n",
       "      <th>std</th>\n",
       "      <td>8.727056</td>\n",
       "      <td>0.298182</td>\n",
       "      <td>0.876686</td>\n",
       "      <td>19.828685</td>\n",
       "      <td>126.391398</td>\n",
       "      <td>0.472332</td>\n",
       "      <td>0.662852</td>\n",
       "      <td>23.386923</td>\n",
       "      <td>0.485354</td>\n",
       "      <td>1.151872</td>\n",
       "      <td>0.497220</td>\n",
       "      <td>0.0</td>\n",
       "    </tr>\n",
       "    <tr>\n",
       "      <th>min</th>\n",
       "      <td>31.000000</td>\n",
       "      <td>0.000000</td>\n",
       "      <td>0.000000</td>\n",
       "      <td>0.000000</td>\n",
       "      <td>0.000000</td>\n",
       "      <td>0.000000</td>\n",
       "      <td>0.000000</td>\n",
       "      <td>60.000000</td>\n",
       "      <td>0.000000</td>\n",
       "      <td>-2.600000</td>\n",
       "      <td>0.000000</td>\n",
       "      <td>1.0</td>\n",
       "    </tr>\n",
       "    <tr>\n",
       "      <th>25%</th>\n",
       "      <td>51.000000</td>\n",
       "      <td>1.000000</td>\n",
       "      <td>0.000000</td>\n",
       "      <td>120.000000</td>\n",
       "      <td>0.000000</td>\n",
       "      <td>0.000000</td>\n",
       "      <td>1.000000</td>\n",
       "      <td>112.000000</td>\n",
       "      <td>0.000000</td>\n",
       "      <td>0.000000</td>\n",
       "      <td>1.000000</td>\n",
       "      <td>1.0</td>\n",
       "    </tr>\n",
       "    <tr>\n",
       "      <th>50%</th>\n",
       "      <td>57.000000</td>\n",
       "      <td>1.000000</td>\n",
       "      <td>0.000000</td>\n",
       "      <td>132.000000</td>\n",
       "      <td>217.000000</td>\n",
       "      <td>0.000000</td>\n",
       "      <td>1.000000</td>\n",
       "      <td>126.000000</td>\n",
       "      <td>1.000000</td>\n",
       "      <td>1.200000</td>\n",
       "      <td>1.000000</td>\n",
       "      <td>1.0</td>\n",
       "    </tr>\n",
       "    <tr>\n",
       "      <th>75%</th>\n",
       "      <td>62.000000</td>\n",
       "      <td>1.000000</td>\n",
       "      <td>0.000000</td>\n",
       "      <td>145.000000</td>\n",
       "      <td>267.000000</td>\n",
       "      <td>1.000000</td>\n",
       "      <td>1.000000</td>\n",
       "      <td>144.250000</td>\n",
       "      <td>1.000000</td>\n",
       "      <td>2.000000</td>\n",
       "      <td>1.000000</td>\n",
       "      <td>1.0</td>\n",
       "    </tr>\n",
       "    <tr>\n",
       "      <th>max</th>\n",
       "      <td>77.000000</td>\n",
       "      <td>1.000000</td>\n",
       "      <td>3.000000</td>\n",
       "      <td>200.000000</td>\n",
       "      <td>603.000000</td>\n",
       "      <td>1.000000</td>\n",
       "      <td>2.000000</td>\n",
       "      <td>195.000000</td>\n",
       "      <td>1.000000</td>\n",
       "      <td>6.200000</td>\n",
       "      <td>2.000000</td>\n",
       "      <td>1.0</td>\n",
       "    </tr>\n",
       "  </tbody>\n",
       "</table>\n",
       "</div>"
      ],
      "text/plain": [
       "              Age         Sex  ChestPainType   RestingBP  Cholesterol  \\\n",
       "count  508.000000  508.000000     508.000000  508.000000   508.000000   \n",
       "mean    55.899606    0.901575       0.448819  134.185039   175.940945   \n",
       "std      8.727056    0.298182       0.876686   19.828685   126.391398   \n",
       "min     31.000000    0.000000       0.000000    0.000000     0.000000   \n",
       "25%     51.000000    1.000000       0.000000  120.000000     0.000000   \n",
       "50%     57.000000    1.000000       0.000000  132.000000   217.000000   \n",
       "75%     62.000000    1.000000       0.000000  145.000000   267.000000   \n",
       "max     77.000000    1.000000       3.000000  200.000000   603.000000   \n",
       "\n",
       "        FastingBS  RestingECG       MaxHR  ExerciseAngina     Oldpeak  \\\n",
       "count  508.000000  508.000000  508.000000      508.000000  508.000000   \n",
       "mean     0.334646    1.021654  127.655512        0.622047    1.274213   \n",
       "std      0.472332    0.662852   23.386923        0.485354    1.151872   \n",
       "min      0.000000    0.000000   60.000000        0.000000   -2.600000   \n",
       "25%      0.000000    1.000000  112.000000        0.000000    0.000000   \n",
       "50%      0.000000    1.000000  126.000000        1.000000    1.200000   \n",
       "75%      1.000000    1.000000  144.250000        1.000000    2.000000   \n",
       "max      1.000000    2.000000  195.000000        1.000000    6.200000   \n",
       "\n",
       "         ST_Slope  HeartDisease  \n",
       "count  508.000000         508.0  \n",
       "mean     1.057087           1.0  \n",
       "std      0.497220           0.0  \n",
       "min      0.000000           1.0  \n",
       "25%      1.000000           1.0  \n",
       "50%      1.000000           1.0  \n",
       "75%      1.000000           1.0  \n",
       "max      2.000000           1.0  "
      ]
     },
     "execution_count": 12,
     "metadata": {},
     "output_type": "execute_result"
    }
   ],
   "source": [
    "data[data.HeartDisease == 1].describe()"
   ]
  },
  {
   "cell_type": "markdown",
   "id": "139e95eb",
   "metadata": {},
   "source": [
    "**Age Variable for Heart Diseased Patients**<br>\n",
    "Mean Age of patient who have CVD: ~ 56<br>\n",
    "Oldest Patient with heart Disease : 77<br>\n",
    "and Youngest patient : 31\n",
    "<br><br>\n",
    "**Resting Blood Pressure**<br>\n",
    "Mean Resting Blood Pressure: ~134<br>\n",
    "Maximum Blood Pressure recorded for patient with Heart disease: 200\n",
    "<br><br>\n",
    "**Cholestrol Level Variable for Heart Diseased Patients**<br>\n",
    "Mean Cholestrol level of patient who have CVD: ~176 <br>\n",
    "Max cholestrol level: 603\n",
    "<br><br>\n",
    "**Heart Rate**<br>\n",
    "Mean: ~127.6 <br>\n",
    "Max: 195<br>\n",
    "min: 60\n",
    "<br><br>"
   ]
  },
  {
   "cell_type": "markdown",
   "id": "ff50c3ea",
   "metadata": {},
   "source": [
    "### >&emsp;Statistics of Patients who don't have Heart Disease"
   ]
  },
  {
   "cell_type": "code",
   "execution_count": 13,
   "id": "189a80fd",
   "metadata": {},
   "outputs": [
    {
     "data": {
      "text/html": [
       "<div>\n",
       "<style scoped>\n",
       "    .dataframe tbody tr th:only-of-type {\n",
       "        vertical-align: middle;\n",
       "    }\n",
       "\n",
       "    .dataframe tbody tr th {\n",
       "        vertical-align: top;\n",
       "    }\n",
       "\n",
       "    .dataframe thead th {\n",
       "        text-align: right;\n",
       "    }\n",
       "</style>\n",
       "<table border=\"1\" class=\"dataframe\">\n",
       "  <thead>\n",
       "    <tr style=\"text-align: right;\">\n",
       "      <th></th>\n",
       "      <th>Age</th>\n",
       "      <th>Sex</th>\n",
       "      <th>ChestPainType</th>\n",
       "      <th>RestingBP</th>\n",
       "      <th>Cholesterol</th>\n",
       "      <th>FastingBS</th>\n",
       "      <th>RestingECG</th>\n",
       "      <th>MaxHR</th>\n",
       "      <th>ExerciseAngina</th>\n",
       "      <th>Oldpeak</th>\n",
       "      <th>ST_Slope</th>\n",
       "      <th>HeartDisease</th>\n",
       "    </tr>\n",
       "  </thead>\n",
       "  <tbody>\n",
       "    <tr>\n",
       "      <th>count</th>\n",
       "      <td>410.000000</td>\n",
       "      <td>410.000000</td>\n",
       "      <td>410.000000</td>\n",
       "      <td>410.000000</td>\n",
       "      <td>410.000000</td>\n",
       "      <td>410.000000</td>\n",
       "      <td>410.00000</td>\n",
       "      <td>410.000000</td>\n",
       "      <td>410.000000</td>\n",
       "      <td>410.000000</td>\n",
       "      <td>410.000000</td>\n",
       "      <td>410.0</td>\n",
       "    </tr>\n",
       "    <tr>\n",
       "      <th>mean</th>\n",
       "      <td>50.551220</td>\n",
       "      <td>0.651220</td>\n",
       "      <td>1.192683</td>\n",
       "      <td>130.180488</td>\n",
       "      <td>227.121951</td>\n",
       "      <td>0.107317</td>\n",
       "      <td>0.94878</td>\n",
       "      <td>148.151220</td>\n",
       "      <td>0.134146</td>\n",
       "      <td>0.408049</td>\n",
       "      <td>1.739024</td>\n",
       "      <td>0.0</td>\n",
       "    </tr>\n",
       "    <tr>\n",
       "      <th>std</th>\n",
       "      <td>9.444915</td>\n",
       "      <td>0.477167</td>\n",
       "      <td>0.889738</td>\n",
       "      <td>16.499585</td>\n",
       "      <td>74.634659</td>\n",
       "      <td>0.309894</td>\n",
       "      <td>0.58907</td>\n",
       "      <td>23.288067</td>\n",
       "      <td>0.341226</td>\n",
       "      <td>0.699709</td>\n",
       "      <td>0.511663</td>\n",
       "      <td>0.0</td>\n",
       "    </tr>\n",
       "    <tr>\n",
       "      <th>min</th>\n",
       "      <td>28.000000</td>\n",
       "      <td>0.000000</td>\n",
       "      <td>0.000000</td>\n",
       "      <td>80.000000</td>\n",
       "      <td>0.000000</td>\n",
       "      <td>0.000000</td>\n",
       "      <td>0.00000</td>\n",
       "      <td>69.000000</td>\n",
       "      <td>0.000000</td>\n",
       "      <td>-1.100000</td>\n",
       "      <td>0.000000</td>\n",
       "      <td>0.0</td>\n",
       "    </tr>\n",
       "    <tr>\n",
       "      <th>25%</th>\n",
       "      <td>43.000000</td>\n",
       "      <td>0.000000</td>\n",
       "      <td>0.000000</td>\n",
       "      <td>120.000000</td>\n",
       "      <td>197.250000</td>\n",
       "      <td>0.000000</td>\n",
       "      <td>1.00000</td>\n",
       "      <td>134.000000</td>\n",
       "      <td>0.000000</td>\n",
       "      <td>0.000000</td>\n",
       "      <td>2.000000</td>\n",
       "      <td>0.0</td>\n",
       "    </tr>\n",
       "    <tr>\n",
       "      <th>50%</th>\n",
       "      <td>51.000000</td>\n",
       "      <td>1.000000</td>\n",
       "      <td>1.000000</td>\n",
       "      <td>130.000000</td>\n",
       "      <td>227.000000</td>\n",
       "      <td>0.000000</td>\n",
       "      <td>1.00000</td>\n",
       "      <td>150.000000</td>\n",
       "      <td>0.000000</td>\n",
       "      <td>0.000000</td>\n",
       "      <td>2.000000</td>\n",
       "      <td>0.0</td>\n",
       "    </tr>\n",
       "    <tr>\n",
       "      <th>75%</th>\n",
       "      <td>57.000000</td>\n",
       "      <td>1.000000</td>\n",
       "      <td>2.000000</td>\n",
       "      <td>140.000000</td>\n",
       "      <td>266.750000</td>\n",
       "      <td>0.000000</td>\n",
       "      <td>1.00000</td>\n",
       "      <td>165.000000</td>\n",
       "      <td>0.000000</td>\n",
       "      <td>0.600000</td>\n",
       "      <td>2.000000</td>\n",
       "      <td>0.0</td>\n",
       "    </tr>\n",
       "    <tr>\n",
       "      <th>max</th>\n",
       "      <td>76.000000</td>\n",
       "      <td>1.000000</td>\n",
       "      <td>3.000000</td>\n",
       "      <td>190.000000</td>\n",
       "      <td>564.000000</td>\n",
       "      <td>1.000000</td>\n",
       "      <td>2.00000</td>\n",
       "      <td>202.000000</td>\n",
       "      <td>1.000000</td>\n",
       "      <td>4.200000</td>\n",
       "      <td>2.000000</td>\n",
       "      <td>0.0</td>\n",
       "    </tr>\n",
       "  </tbody>\n",
       "</table>\n",
       "</div>"
      ],
      "text/plain": [
       "              Age         Sex  ChestPainType   RestingBP  Cholesterol  \\\n",
       "count  410.000000  410.000000     410.000000  410.000000   410.000000   \n",
       "mean    50.551220    0.651220       1.192683  130.180488   227.121951   \n",
       "std      9.444915    0.477167       0.889738   16.499585    74.634659   \n",
       "min     28.000000    0.000000       0.000000   80.000000     0.000000   \n",
       "25%     43.000000    0.000000       0.000000  120.000000   197.250000   \n",
       "50%     51.000000    1.000000       1.000000  130.000000   227.000000   \n",
       "75%     57.000000    1.000000       2.000000  140.000000   266.750000   \n",
       "max     76.000000    1.000000       3.000000  190.000000   564.000000   \n",
       "\n",
       "        FastingBS  RestingECG       MaxHR  ExerciseAngina     Oldpeak  \\\n",
       "count  410.000000   410.00000  410.000000      410.000000  410.000000   \n",
       "mean     0.107317     0.94878  148.151220        0.134146    0.408049   \n",
       "std      0.309894     0.58907   23.288067        0.341226    0.699709   \n",
       "min      0.000000     0.00000   69.000000        0.000000   -1.100000   \n",
       "25%      0.000000     1.00000  134.000000        0.000000    0.000000   \n",
       "50%      0.000000     1.00000  150.000000        0.000000    0.000000   \n",
       "75%      0.000000     1.00000  165.000000        0.000000    0.600000   \n",
       "max      1.000000     2.00000  202.000000        1.000000    4.200000   \n",
       "\n",
       "         ST_Slope  HeartDisease  \n",
       "count  410.000000         410.0  \n",
       "mean     1.739024           0.0  \n",
       "std      0.511663           0.0  \n",
       "min      0.000000           0.0  \n",
       "25%      2.000000           0.0  \n",
       "50%      2.000000           0.0  \n",
       "75%      2.000000           0.0  \n",
       "max      2.000000           0.0  "
      ]
     },
     "execution_count": 13,
     "metadata": {},
     "output_type": "execute_result"
    }
   ],
   "source": [
    "data[data.HeartDisease == 0].describe()"
   ]
  },
  {
   "cell_type": "markdown",
   "id": "d2679bad",
   "metadata": {},
   "source": [
    "**Age Variable for Normal Patients**<br>\n",
    "Mean Age of patient : ~ 50<br>\n",
    "Healthy Oldest Patient : 76<br>\n",
    "and Youngest patient : 28\n",
    "<br><br>\n",
    "**Resting Blood Pressure**<br>\n",
    "Mean Resting Blood Pressure: ~130.2<br>\n",
    "Maximum Blood Pressure recorded for Healthy patient: 190\n",
    "<br><br>\n",
    "**Cholestrol Level Variable for Normal Patients**<br>\n",
    "Mean Cholestrol level of patient who have CVD: ~227.1 <br>\n",
    "Max cholestrol level: 564\n",
    "<br><br>\n",
    "**Heart Rate**<br>\n",
    "Mean: ~148.15 <br>\n",
    "Max: 202<br>\n",
    "min: 69\n",
    "<br><br>"
   ]
  },
  {
   "cell_type": "code",
   "execution_count": 14,
   "id": "eaf38287",
   "metadata": {
    "scrolled": false
   },
   "outputs": [
    {
     "name": "stdout",
     "output_type": "stream",
     "text": [
      "Age: Average\n",
      "\n",
      "Heart Diseased Patients: 55.9\n",
      "Normal Patients: 50.55\n"
     ]
    }
   ],
   "source": [
    "print(\"Age: Average\\n\")\n",
    "print(f\"Heart Diseased Patients: {round(data.loc[data.HeartDisease == 1].Age.mean() , 2)}\")\n",
    "print(f\"Normal Patients: {round(data.loc[data.HeartDisease == 0].Age.mean() , 2)}\")"
   ]
  },
  {
   "cell_type": "code",
   "execution_count": 15,
   "id": "2b28b21f",
   "metadata": {},
   "outputs": [
    {
     "name": "stdout",
     "output_type": "stream",
     "text": [
      "Max Heart Rate: Average\n",
      "\n",
      "Heart Diseased Patients: 127.66\n",
      "Normal Patients: 148.15\n"
     ]
    }
   ],
   "source": [
    "print(\"Max Heart Rate: Average\\n\")\n",
    "print(f\"Heart Diseased Patients: {round(data.loc[data.HeartDisease == 1].MaxHR.mean() , 2)}\")\n",
    "print(f\"Normal Patients: {round(data.loc[data.HeartDisease == 0].MaxHR.mean() , 2)}\")"
   ]
  },
  {
   "cell_type": "markdown",
   "id": "28521885",
   "metadata": {},
   "source": [
    "**We can see here that normal patients heart is more efficient that there max heart rate is 148.15 where as heart Diseased patient max heart rate can rach upto 127.66**<br>\n",
    "**Note: <font color='brown'>This doesn't mean having higher Max Heart Rate will always cause Heart Diesease<font>**"
   ]
  },
  {
   "cell_type": "code",
   "execution_count": 16,
   "id": "6933154f",
   "metadata": {
    "scrolled": true
   },
   "outputs": [
    {
     "name": "stdout",
     "output_type": "stream",
     "text": [
      "Max Resting Blood Pressure: Average\n",
      "\n",
      "Heart Diseased Patients: 134.19\n",
      "Normal Patients: 130.18\n"
     ]
    }
   ],
   "source": [
    "print(\"Max Resting Blood Pressure: Average\\n\")\n",
    "print(f\"Heart Diseased Patients: {round(data.loc[data.HeartDisease == 1].RestingBP.mean() , 2)}\")\n",
    "print(f\"Normal Patients: {round(data.loc[data.HeartDisease == 0].RestingBP.mean() , 2)}\")"
   ]
  },
  {
   "cell_type": "code",
   "execution_count": 17,
   "id": "a3fa8cf1",
   "metadata": {},
   "outputs": [
    {
     "name": "stdout",
     "output_type": "stream",
     "text": [
      "Cholesterol Levels: Average\n",
      "\n",
      "Heart Diseased Patients: 175.94\n",
      "Normal Patients: 227.12\n"
     ]
    }
   ],
   "source": [
    "print(\"Cholesterol Levels: Average\\n\")\n",
    "print(f\"Heart Diseased Patients: {round(data.loc[data.HeartDisease == 1].Cholesterol.mean() , 2)}\")\n",
    "print(f\"Normal Patients: {round(data.loc[data.HeartDisease == 0].Cholesterol.mean() , 2)}\")"
   ]
  },
  {
   "cell_type": "markdown",
   "id": "04da6998",
   "metadata": {},
   "source": [
    "### Now let's Find out what type of Chest Pain is more common"
   ]
  },
  {
   "cell_type": "code",
   "execution_count": 18,
   "id": "4ea3c048",
   "metadata": {
    "scrolled": true
   },
   "outputs": [
    {
     "data": {
      "image/png": "[encoded data removed]",
      "text/plain": [
       "<Figure size 1080x576 with 1 Axes>"
      ]
     },
     "metadata": {
      "needs_background": "light"
     },
     "output_type": "display_data"
    }
   ],
   "source": [
    "plt.figure(figsize = (15 , 8))\n",
    "sns.countplot(data = data , y = 'ChestPainType').set_title(\"Count of Type of Chest Pain\" , fontsize = 25)\n",
    "plt.show()"
   ]
  },
  {
   "cell_type": "code",
   "execution_count": 19,
   "id": "4ab5f24d",
   "metadata": {
    "scrolled": false
   },
   "outputs": [
    {
     "name": "stdout",
     "output_type": "stream",
     "text": [
      "Graph Depicts:\n",
      "\n",
      "There are total of 496 patients with Asymptomatic Chest Pain, which is 54.03% of the patients\n",
      "\n",
      "There are total of 173 patients with  Atypical Angina Chest Pain, which is 18.85% of the patients\n",
      "\n",
      "There are total of 203 patients with Non-Anginal Chest Pain, which is 22.11% of the patients\n",
      "\n",
      "There are total of 46 patients with Typical Angina Chest Pain, which is 5.01% of the patients\n",
      "\n"
     ]
    }
   ],
   "source": [
    "ASY = data[(data['ChestPainType'] == 0)]\n",
    "ATA = data[(data['ChestPainType'] == 1)]\n",
    "NAP = data[(data['ChestPainType'] == 2)]\n",
    "TA = data[(data['ChestPainType'] == 3)]\n",
    "\n",
    "\n",
    "print(\"Graph Depicts:\\n\")\n",
    "print(f\"There are total of {len(ASY)} patients with Asymptomatic Chest Pain, which is {len(ASY)/len(data) * 100:.2f}% of the patients\\n\")\n",
    "print(f\"There are total of {len(ATA)} patients with  Atypical Angina Chest Pain, which is {len(ATA)/len(data) * 100:.2f}% of the patients\\n\")\n",
    "print(f\"There are total of {len(NAP)} patients with Non-Anginal Chest Pain, which is {len(NAP)/len(data) * 100:.2f}% of the patients\\n\")\n",
    "print(f\"There are total of {len(TA)} patients with Typical Angina Chest Pain, which is {len(TA)/len(data) * 100:.2f}% of the patients\\n\")"
   ]
  },
  {
   "cell_type": "markdown",
   "id": "5c95d974",
   "metadata": {},
   "source": [
    "### Observation\n",
    "**> &emsp;It is clearly evident from the Graph that most common type of chest pain is Asymptomatic, almost slightly more than half the patients have this type of pain.**<br>\n",
    "**> &emsp;Rare type of chest pain is Typical Angina, only 5% of the patients are suffering from this.**<br>\n",
    "**> &emsp;We will later look how each of the chest pain is associated with heart disease.**"
   ]
  },
  {
   "cell_type": "markdown",
   "id": "193a01ba",
   "metadata": {},
   "source": [
    "### <font color='blue'>Variable Distribution:</font> Count"
   ]
  },
  {
   "cell_type": "markdown",
   "id": "eaa7ea9f",
   "metadata": {},
   "source": [
    "**<font color='purple'>a)  Count of Heart Disease Variable</font>**"
   ]
  },
  {
   "cell_type": "code",
   "execution_count": 20,
   "id": "fb6c8217",
   "metadata": {
    "scrolled": true
   },
   "outputs": [],
   "source": [
    "# Split data into two dataset \n",
    "# One data set \"present\" contains data of all the patient who have heartDisease\n",
    "# Second data contains data of all the patient who dont have heartDisease\n",
    "present = data[(data['HeartDisease'] == 1)]\n",
    "not_present = data[(data['HeartDisease'] == 0)]"
   ]
  },
  {
   "cell_type": "code",
   "execution_count": 21,
   "id": "d2247361",
   "metadata": {},
   "outputs": [
    {
     "data": {
      "image/png": "[encoded data removed]",
      "text/plain": [
       "<Figure size 1080x576 with 1 Axes>"
      ]
     },
     "metadata": {
      "needs_background": "light"
     },
     "output_type": "display_data"
    },
    {
     "name": "stdout",
     "output_type": "stream",
     "text": [
      "Number of patients with Heart Disease: 508 which is 55.34% of the dataset\n",
      "Number of patients who are not digonised with Heart Disease: 410 which is 44.66% of the dataset\n"
     ]
    }
   ],
   "source": [
    "# COUNTING \n",
    "plt.figure(figsize = (15 , 8))\n",
    "sns.countplot(data = data , y = 'HeartDisease').set_title(\"Count of Heart Disease Variable\" , fontsize = 25)\n",
    "plt.show()\n",
    "print(f\"Number of patients with Heart Disease: {len(present)} which is {len(present) / ( (len(present) + len(not_present))) * 100:.2f}% of the dataset\")\n",
    "print(f\"Number of patients who are not digonised with Heart Disease: {len(not_present)} which is {len(not_present) / ( (len(present) + len(not_present))) * 100:.2f}% of the dataset\")"
   ]
  },
  {
   "cell_type": "markdown",
   "id": "b19425a3",
   "metadata": {},
   "source": [
    "**The above count plot shows the Number of patients who have and dont have Heart Disease<br>\n",
    "<font color='blue'>1: \"HeartDisease Present\" : Orange<br>\n",
    "0: \"HeartDisease Not Present\" : Blue</font>**"
   ]
  },
  {
   "cell_type": "markdown",
   "id": "5a85adb2",
   "metadata": {},
   "source": [
    "**<font color='purple'>b)  Percentage Distribution </font>**"
   ]
  },
  {
   "cell_type": "code",
   "execution_count": 22,
   "id": "23374936",
   "metadata": {
    "scrolled": true
   },
   "outputs": [
    {
     "data": {
      "image/png": "[encoded data removed]",
      "text/plain": [
       "<Figure size 1080x576 with 1 Axes>"
      ]
     },
     "metadata": {},
     "output_type": "display_data"
    }
   ],
   "source": [
    "percentage = [len(present) / ( (len(present) + len(not_present))) * 100 , len(not_present) / ( (len(present) + len(not_present))) * 100]\n",
    "val = [\"HeartDiseasePresent\" , \"No_HeartDisease\"]\n",
    "colors = sns.color_palette('pastel')[0:2]\n",
    "plt.figure(figsize = (15 , 8))\n",
    "plt.title(label = \"Percentage Distribution of HeartDisease Variable\" , fontsize = 25)\n",
    "plt.pie(percentage , labels = val , colors = colors , autopct = '%.0f%%')\n",
    "plt.show()"
   ]
  },
  {
   "cell_type": "markdown",
   "id": "95356688",
   "metadata": {},
   "source": [
    "**<font color='purple'>c)  Exploratory Plots </font>**"
   ]
  },
  {
   "cell_type": "code",
   "execution_count": 23,
   "id": "41831274",
   "metadata": {},
   "outputs": [],
   "source": [
    "# Function to plot the variable column that is passed to it as argument\n",
    "def plotdata(set):\n",
    "    sns.displot(set , kde = True)\n",
    "    plt.show()\n"
   ]
  },
  {
   "cell_type": "markdown",
   "id": "e5bece41",
   "metadata": {},
   "source": [
    "### >&emsp; Let's see how age is distributed"
   ]
  },
  {
   "cell_type": "code",
   "execution_count": 24,
   "id": "1f5483e2",
   "metadata": {
    "scrolled": false
   },
   "outputs": [
    {
     "data": {
      "image/png": "[encoded data removed]",
      "text/plain": [
       "<Figure size 360x360 with 1 Axes>"
      ]
     },
     "metadata": {
      "needs_background": "light"
     },
     "output_type": "display_data"
    }
   ],
   "source": [
    "plotdata(data['Age'])"
   ]
  },
  {
   "cell_type": "markdown",
   "id": "df36484c",
   "metadata": {},
   "source": [
    "**Finding count of patients between the age 50 , 60**"
   ]
  },
  {
   "cell_type": "code",
   "execution_count": 25,
   "id": "a2278e7c",
   "metadata": {},
   "outputs": [
    {
     "name": "stdout",
     "output_type": "stream",
     "text": [
      "Patients count between 50 to 60 years : 406\n"
     ]
    }
   ],
   "source": [
    "df = pd.DataFrame(data)\n",
    "result = df[df['Age'].between(50,60)]\n",
    "print(f\"Patients count between 50 to 60 years : {len(result)}\")"
   ]
  },
  {
   "cell_type": "markdown",
   "id": "b97891fe",
   "metadata": {},
   "source": [
    "### <font color='Blue'>Observation:</font><br>\n",
    "  **a. Patients aged 50-60 years were the most numerous that is 406**<br>\n",
    "   **b. Since the graph is bell shaped therefore age is normally distributed**"
   ]
  },
  {
   "cell_type": "markdown",
   "id": "7840536a",
   "metadata": {},
   "source": []
  },
  {
   "cell_type": "markdown",
   "id": "cf573beb",
   "metadata": {},
   "source": [
    "### Let's see how RestingBP is distributed"
   ]
  },
  {
   "cell_type": "code",
   "execution_count": 26,
   "id": "93c0d9f6",
   "metadata": {},
   "outputs": [
    {
     "data": {
      "image/png": "[encoded data removed]",
      "text/plain": [
       "<Figure size 360x360 with 1 Axes>"
      ]
     },
     "metadata": {
      "needs_background": "light"
     },
     "output_type": "display_data"
    }
   ],
   "source": [
    "plotdata(data['RestingBP'])"
   ]
  },
  {
   "cell_type": "markdown",
   "id": "13d4f4c7",
   "metadata": {},
   "source": [
    "**Finding count of patients who's RestingBP is between 125 - 150**"
   ]
  },
  {
   "cell_type": "code",
   "execution_count": 27,
   "id": "f04a09e1",
   "metadata": {},
   "outputs": [
    {
     "name": "stdout",
     "output_type": "stream",
     "text": [
      "Patients count with Resting BP between 125 to 150 : 482\n"
     ]
    }
   ],
   "source": [
    "result = df[df['RestingBP'].between(125,150)]\n",
    "print(f\"Patients count with Resting BP between 125 to 150 : {len(result)}\")"
   ]
  },
  {
   "cell_type": "markdown",
   "id": "3ab4a9db",
   "metadata": {},
   "source": [
    "   ### <font color='Blue'>Observation:</font><br>\n",
    "   **a. Most Patients have Resting Blood Pressure between the range 125 - 150**<br>\n",
    "   **b. Since the graph is bell shaped therefore Resting Blood Pressure variable is normally distributed**"
   ]
  },
  {
   "cell_type": "code",
   "execution_count": 28,
   "id": "083613c2",
   "metadata": {},
   "outputs": [
    {
     "data": {
      "text/plain": [
       "Index(['Age', 'Sex', 'ChestPainType', 'RestingBP', 'Cholesterol', 'FastingBS',\n",
       "       'RestingECG', 'MaxHR', 'ExerciseAngina', 'Oldpeak', 'ST_Slope',\n",
       "       'HeartDisease'],\n",
       "      dtype='object')"
      ]
     },
     "execution_count": 28,
     "metadata": {},
     "output_type": "execute_result"
    }
   ],
   "source": [
    "data.columns"
   ]
  },
  {
   "cell_type": "markdown",
   "id": "7902c326",
   "metadata": {},
   "source": [
    "### Let's see how Cholesterol is distributed"
   ]
  },
  {
   "cell_type": "code",
   "execution_count": 29,
   "id": "934b00fa",
   "metadata": {
    "scrolled": true
   },
   "outputs": [
    {
     "data": {
      "image/png": "[encoded data removed]",
      "text/plain": [
       "<Figure size 360x360 with 1 Axes>"
      ]
     },
     "metadata": {
      "needs_background": "light"
     },
     "output_type": "display_data"
    }
   ],
   "source": [
    "# HERE WE WILL AVOID THE 0 CHOLESTeROL LEVEL DATA \n",
    "temp = data[(data['Cholesterol'] != 0)]\n",
    "plotdata(temp['Cholesterol'])"
   ]
  },
  {
   "cell_type": "code",
   "execution_count": 30,
   "id": "a322c0b0",
   "metadata": {
    "scrolled": true
   },
   "outputs": [
    {
     "name": "stdout",
     "output_type": "stream",
     "text": [
      "Patients count with Cholesterol between 125 to 150 : 497\n"
     ]
    }
   ],
   "source": [
    "result = df[df['Cholesterol'].between(200 , 300)]\n",
    "print(f\"Patients count with Cholesterol between 125 to 150 : {len(result)}\")"
   ]
  },
  {
   "cell_type": "markdown",
   "id": "bbcedf9b",
   "metadata": {},
   "source": [
    "### <font color='Blue'>Observation:</font><br>\n",
    "**a. Most of the Patients have Cholestrol Level's between the range 200 - 300**<br>\n",
    " **b. Since the graph is bell shaped therefore Cholestrol variable is normally distributed**"
   ]
  },
  {
   "cell_type": "markdown",
   "id": "e02b9f16",
   "metadata": {},
   "source": [
    "### Let's see how FastingBS is distributed"
   ]
  },
  {
   "cell_type": "code",
   "execution_count": 31,
   "id": "34a36242",
   "metadata": {
    "scrolled": true
   },
   "outputs": [
    {
     "data": {
      "image/png": "[encoded data removed]",
      "text/plain": [
       "<Figure size 360x360 with 1 Axes>"
      ]
     },
     "metadata": {
      "needs_background": "light"
     },
     "output_type": "display_data"
    }
   ],
   "source": [
    "plotdata(data['FastingBS'])"
   ]
  },
  {
   "cell_type": "code",
   "execution_count": 32,
   "id": "85a7506d",
   "metadata": {
    "scrolled": false
   },
   "outputs": [
    {
     "name": "stdout",
     "output_type": "stream",
     "text": [
      "Number of Patients with 0 Fasting BS(Fasting BS > 120 mg/dl): 704\n",
      "Number of Patients with 1 Fasting BS(other levels): 214\n"
     ]
    }
   ],
   "source": [
    "print(f\"Number of Patients with 0 Fasting BS(Fasting BS > 120 mg/dl): {round(data.loc[data.FastingBS == 0].Cholesterol.count() , 2)}\")\n",
    "print(f\"Number of Patients with 1 Fasting BS(other levels): {round(data.loc[data.FastingBS == 1].Cholesterol.count() , 2)}\")"
   ]
  },
  {
   "cell_type": "markdown",
   "id": "ce9d5d54",
   "metadata": {},
   "source": [
    "### <font color='Blue'>Observation:</font><br>\n",
    "**>&emsp;It is evident from the Graph that most of the patients have Fasting Blood Sugar value of 0 which means that have Fasting Blood Sugar > 120mg/dl, which is not healthy**"
   ]
  },
  {
   "cell_type": "markdown",
   "id": "10bd6e38",
   "metadata": {},
   "source": [
    "### Let's see how RestingECG is distributed:\n"
   ]
  },
  {
   "cell_type": "code",
   "execution_count": 33,
   "id": "facbcbc1",
   "metadata": {
    "scrolled": true
   },
   "outputs": [
    {
     "data": {
      "image/png": "[encoded data removed]",
      "text/plain": [
       "<Figure size 360x360 with 1 Axes>"
      ]
     },
     "metadata": {
      "needs_background": "light"
     },
     "output_type": "display_data"
    }
   ],
   "source": [
    "plotdata(data['RestingECG'])"
   ]
  },
  {
   "cell_type": "code",
   "execution_count": 34,
   "id": "5481079b",
   "metadata": {
    "scrolled": true
   },
   "outputs": [
    {
     "name": "stdout",
     "output_type": "stream",
     "text": [
      "Number of Patients with 0 Resting ECG(LVH: left ventricular hypertrophy): 188\n",
      "Number of Patients with 1 Resting ECG (Normal): 552\n",
      "Number of Patients with 2 Resting ECG (ST: Elevation or depression): 178\n"
     ]
    }
   ],
   "source": [
    "print(f\"Number of Patients with 0 Resting ECG(LVH: left ventricular hypertrophy): {round(data.loc[data.RestingECG == 0].RestingECG.count() , 2)}\")\n",
    "print(f\"Number of Patients with 1 Resting ECG (Normal): {round(data.loc[data.RestingECG == 1].RestingECG.count() , 2)}\")\n",
    "print(f\"Number of Patients with 2 Resting ECG (ST: Elevation or depression): {round(data.loc[data.RestingECG == 2].RestingECG.count() , 2)}\")"
   ]
  },
  {
   "cell_type": "markdown",
   "id": "90a5b034",
   "metadata": {},
   "source": [
    "### <font color='Blue'>Observation:</font><br>\n",
    "**We can see from the graph and above data that most of the patients have \"Normal\" Resting ECG.**<br>\n",
    "**We will further see how this variable is linked with Heart Disease**"
   ]
  },
  {
   "cell_type": "markdown",
   "id": "eff0582b",
   "metadata": {},
   "source": [
    "### Let's see how MaxHR is distributed:"
   ]
  },
  {
   "cell_type": "code",
   "execution_count": 35,
   "id": "659827cf",
   "metadata": {},
   "outputs": [
    {
     "data": {
      "image/png": "[encoded data removed]",
      "text/plain": [
       "<Figure size 360x360 with 1 Axes>"
      ]
     },
     "metadata": {
      "needs_background": "light"
     },
     "output_type": "display_data"
    }
   ],
   "source": [
    "# call the function\n",
    "plotdata(data['MaxHR'])"
   ]
  },
  {
   "cell_type": "code",
   "execution_count": 36,
   "id": "ec10170a",
   "metadata": {
    "scrolled": false
   },
   "outputs": [
    {
     "name": "stdout",
     "output_type": "stream",
     "text": [
      "Patients count with MaxHR between 100 to 160 : 671\n"
     ]
    }
   ],
   "source": [
    "result = df[df['MaxHR'].between(100 , 160)]\n",
    "print(f\"Patients count with MaxHR between 100 to 160 : {len(result)}\")\n"
   ]
  },
  {
   "cell_type": "markdown",
   "id": "acea4c51",
   "metadata": {},
   "source": [
    "### Let's see how ExerciseAngina is distributed:"
   ]
  },
  {
   "cell_type": "code",
   "execution_count": 37,
   "id": "ca149760",
   "metadata": {},
   "outputs": [
    {
     "data": {
      "image/png": "[encoded data removed]",
      "text/plain": [
       "<Figure size 360x360 with 1 Axes>"
      ]
     },
     "metadata": {
      "needs_background": "light"
     },
     "output_type": "display_data"
    }
   ],
   "source": [
    "plotdata(data['ExerciseAngina'])"
   ]
  },
  {
   "cell_type": "code",
   "execution_count": 38,
   "id": "4c7086ce",
   "metadata": {
    "scrolled": true
   },
   "outputs": [
    {
     "name": "stdout",
     "output_type": "stream",
     "text": [
      "Number of Patients with 0 ExerciseAngina(No chest Pain Induced by Exercise): 547\n",
      "Number of Patients with 1 ExerciseAngina(chest Pain Induced by Exercise): 371\n"
     ]
    }
   ],
   "source": [
    "print(f\"Number of Patients with 0 ExerciseAngina(No chest Pain Induced by Exercise): {round(data.loc[data.ExerciseAngina == 0].ExerciseAngina.count() , 2)}\")\n",
    "print(f\"Number of Patients with 1 ExerciseAngina(chest Pain Induced by Exercise): {round(data.loc[data.ExerciseAngina == 1].ExerciseAngina.count() , 2)}\")"
   ]
  },
  {
   "cell_type": "markdown",
   "id": "75a597a7",
   "metadata": {},
   "source": [
    "### <font color='Blue'>Observation:</font><br>\n",
    "**As you can see from the graph that most of the patients have 0 value for the Exercise Angina, which means that they don't have chest pain which is Induced by doing Exercise.**\n"
   ]
  },
  {
   "cell_type": "markdown",
   "id": "ba947b3a",
   "metadata": {},
   "source": [
    "## <font color = purple>Correlation Between Variables<font>"
   ]
  },
  {
   "cell_type": "code",
   "execution_count": 39,
   "id": "552962a5",
   "metadata": {},
   "outputs": [
    {
     "data": {
      "image/png": "[encoded data removed]",
      "text/plain": [
       "<Figure size 1440x1440 with 2 Axes>"
      ]
     },
     "metadata": {},
     "output_type": "display_data"
    }
   ],
   "source": [
    "sns.set(style = \"dark\")\n",
    "plt.rcParams['figure.figsize'] = (20 , 20)\n",
    "sns.heatmap(df.corr() , annot = True)\n",
    "plt.title(\"Correlation Heat Map between variables\" , fontsize = 25)\n",
    "plt.show()"
   ]
  },
  {
   "cell_type": "markdown",
   "id": "5ee2a7cb",
   "metadata": {},
   "source": [
    "### <font color='Blue'>Observation:</font><br>\n",
    "**Heart Disease have a positivie relation with ExerciseAngina , Age , FastingBS , and OldPeak.**<br>\n",
    "**Also, there is good positive relation between Age and RestingBP**"
   ]
  },
  {
   "cell_type": "markdown",
   "id": "e379ebea",
   "metadata": {},
   "source": [
    "## <font color = purple>Grouping Data and Plotting Graphs </font>"
   ]
  },
  {
   "cell_type": "code",
   "execution_count": 40,
   "id": "34918e60",
   "metadata": {},
   "outputs": [],
   "source": [
    "# copy data into other variable\n",
    "# recoding back to strings, for better readability\n",
    "d2 = data\n",
    "d2.Sex.replace({1: 'Male' , 0: 'Female'} , inplace = True)\n",
    "d2.HeartDisease.replace({1: 'Yes' , 0 : 'No'} , inplace = True)\n",
    "d2.ChestPainType.replace({0: 'ASY' , 1: 'ATA' , 2: 'NAP' , 3: 'TA'} , inplace = True)\n",
    "d2.RestingECG.replace({0: 'LVH' , 1: 'Normal' , 2: 'ST'} , inplace = True)\n",
    "d2.ST_Slope.replace({0: 'Down', 1: 'Flat' , 2: 'Up'} , inplace = True)\n",
    "d2.ExerciseAngina.replace({0: 'No', 1: 'Yes'} , inplace = True)"
   ]
  },
  {
   "cell_type": "markdown",
   "id": "d180a89f",
   "metadata": {},
   "source": [
    "**<font color='red'>a)&emsp;Let's see how Gender is related to Heart Disease</font>**"
   ]
  },
  {
   "cell_type": "code",
   "execution_count": 41,
   "id": "f43bc9e6",
   "metadata": {
    "scrolled": true
   },
   "outputs": [
    {
     "data": {
      "text/html": [
       "<div>\n",
       "<style scoped>\n",
       "    .dataframe tbody tr th:only-of-type {\n",
       "        vertical-align: middle;\n",
       "    }\n",
       "\n",
       "    .dataframe tbody tr th {\n",
       "        vertical-align: top;\n",
       "    }\n",
       "\n",
       "    .dataframe thead th {\n",
       "        text-align: right;\n",
       "    }\n",
       "</style>\n",
       "<table border=\"1\" class=\"dataframe\">\n",
       "  <thead>\n",
       "    <tr style=\"text-align: right;\">\n",
       "      <th>HeartDisease</th>\n",
       "      <th>No</th>\n",
       "      <th>Yes</th>\n",
       "    </tr>\n",
       "    <tr>\n",
       "      <th>Sex</th>\n",
       "      <th></th>\n",
       "      <th></th>\n",
       "    </tr>\n",
       "  </thead>\n",
       "  <tbody>\n",
       "    <tr>\n",
       "      <th>Female</th>\n",
       "      <td>143</td>\n",
       "      <td>50</td>\n",
       "    </tr>\n",
       "    <tr>\n",
       "      <th>Male</th>\n",
       "      <td>267</td>\n",
       "      <td>458</td>\n",
       "    </tr>\n",
       "  </tbody>\n",
       "</table>\n",
       "</div>"
      ],
      "text/plain": [
       "HeartDisease   No  Yes\n",
       "Sex                   \n",
       "Female        143   50\n",
       "Male          267  458"
      ]
     },
     "execution_count": 41,
     "metadata": {},
     "output_type": "execute_result"
    }
   ],
   "source": [
    "grouped_data = d2.groupby(['Sex' , 'HeartDisease']).size().unstack()\n",
    "\n",
    "grouped_data"
   ]
  },
  {
   "cell_type": "code",
   "execution_count": 42,
   "id": "172c7103",
   "metadata": {
    "scrolled": false
   },
   "outputs": [
    {
     "data": {
      "text/html": [
       "<div>\n",
       "<style scoped>\n",
       "    .dataframe tbody tr th:only-of-type {\n",
       "        vertical-align: middle;\n",
       "    }\n",
       "\n",
       "    .dataframe tbody tr th {\n",
       "        vertical-align: top;\n",
       "    }\n",
       "\n",
       "    .dataframe thead th {\n",
       "        text-align: right;\n",
       "    }\n",
       "</style>\n",
       "<table border=\"1\" class=\"dataframe\">\n",
       "  <thead>\n",
       "    <tr style=\"text-align: right;\">\n",
       "      <th>HeartDisease</th>\n",
       "      <th>No</th>\n",
       "      <th>Yes</th>\n",
       "    </tr>\n",
       "    <tr>\n",
       "      <th>Sex</th>\n",
       "      <th></th>\n",
       "      <th></th>\n",
       "    </tr>\n",
       "  </thead>\n",
       "  <tbody>\n",
       "    <tr>\n",
       "      <th>Female</th>\n",
       "      <td>74.093264</td>\n",
       "      <td>25.906736</td>\n",
       "    </tr>\n",
       "    <tr>\n",
       "      <th>Male</th>\n",
       "      <td>36.827586</td>\n",
       "      <td>63.172414</td>\n",
       "    </tr>\n",
       "  </tbody>\n",
       "</table>\n",
       "</div>"
      ],
      "text/plain": [
       "HeartDisease         No        Yes\n",
       "Sex                               \n",
       "Female        74.093264  25.906736\n",
       "Male          36.827586  63.172414"
      ]
     },
     "execution_count": 42,
     "metadata": {},
     "output_type": "execute_result"
    }
   ],
   "source": [
    "grouped_data = grouped_data.div(grouped_data.sum(axis=1), axis=0)*100\n",
    "grouped_data"
   ]
  },
  {
   "cell_type": "code",
   "execution_count": 43,
   "id": "425787e2",
   "metadata": {},
   "outputs": [
    {
     "data": {
      "image/png": "[encoded data removed]",
      "text/plain": [
       "<Figure size 1440x1440 with 1 Axes>"
      ]
     },
     "metadata": {},
     "output_type": "display_data"
    }
   ],
   "source": [
    "# Graph\n",
    "g1 = sns.countplot(data = data , x = \"Sex\" , hue = \"HeartDisease\").set(title = 'Heart Disease Count by Gender' )"
   ]
  },
  {
   "cell_type": "markdown",
   "id": "a7ffc5c1",
   "metadata": {},
   "source": [
    "### <font color='Blue'>Observation:</font><br>\n",
    "**>&emsp;From the above two Grouped data we can say that about 25.9% of female's have heart Disease whereas more than half that is 63.17% of males have heart Disease.**<br>\n",
    "**>&emsp;We can conclude here that Males are more prone to Heart Disease**"
   ]
  },
  {
   "cell_type": "markdown",
   "id": "aca7157a",
   "metadata": {
    "scrolled": true
   },
   "source": [
    "**<font color='red'>b)&emsp;Let's see how Type of Chest pain is related to Heart Disease</font>**\n"
   ]
  },
  {
   "cell_type": "code",
   "execution_count": 44,
   "id": "de394242",
   "metadata": {},
   "outputs": [
    {
     "data": {
      "text/html": [
       "<div>\n",
       "<style scoped>\n",
       "    .dataframe tbody tr th:only-of-type {\n",
       "        vertical-align: middle;\n",
       "    }\n",
       "\n",
       "    .dataframe tbody tr th {\n",
       "        vertical-align: top;\n",
       "    }\n",
       "\n",
       "    .dataframe thead th {\n",
       "        text-align: right;\n",
       "    }\n",
       "</style>\n",
       "<table border=\"1\" class=\"dataframe\">\n",
       "  <thead>\n",
       "    <tr style=\"text-align: right;\">\n",
       "      <th>HeartDisease</th>\n",
       "      <th>No</th>\n",
       "      <th>Yes</th>\n",
       "    </tr>\n",
       "    <tr>\n",
       "      <th>ChestPainType</th>\n",
       "      <th></th>\n",
       "      <th></th>\n",
       "    </tr>\n",
       "  </thead>\n",
       "  <tbody>\n",
       "    <tr>\n",
       "      <th>ASY</th>\n",
       "      <td>104</td>\n",
       "      <td>392</td>\n",
       "    </tr>\n",
       "    <tr>\n",
       "      <th>ATA</th>\n",
       "      <td>149</td>\n",
       "      <td>24</td>\n",
       "    </tr>\n",
       "    <tr>\n",
       "      <th>NAP</th>\n",
       "      <td>131</td>\n",
       "      <td>72</td>\n",
       "    </tr>\n",
       "    <tr>\n",
       "      <th>TA</th>\n",
       "      <td>26</td>\n",
       "      <td>20</td>\n",
       "    </tr>\n",
       "  </tbody>\n",
       "</table>\n",
       "</div>"
      ],
      "text/plain": [
       "HeartDisease    No  Yes\n",
       "ChestPainType          \n",
       "ASY            104  392\n",
       "ATA            149   24\n",
       "NAP            131   72\n",
       "TA              26   20"
      ]
     },
     "execution_count": 44,
     "metadata": {},
     "output_type": "execute_result"
    }
   ],
   "source": [
    "grouped_data = d2.groupby(['ChestPainType' , 'HeartDisease']).size().unstack()\n",
    "grouped_data"
   ]
  },
  {
   "cell_type": "code",
   "execution_count": 45,
   "id": "79f7e5dc",
   "metadata": {},
   "outputs": [
    {
     "data": {
      "text/html": [
       "<div>\n",
       "<style scoped>\n",
       "    .dataframe tbody tr th:only-of-type {\n",
       "        vertical-align: middle;\n",
       "    }\n",
       "\n",
       "    .dataframe tbody tr th {\n",
       "        vertical-align: top;\n",
       "    }\n",
       "\n",
       "    .dataframe thead th {\n",
       "        text-align: right;\n",
       "    }\n",
       "</style>\n",
       "<table border=\"1\" class=\"dataframe\">\n",
       "  <thead>\n",
       "    <tr style=\"text-align: right;\">\n",
       "      <th>HeartDisease</th>\n",
       "      <th>No</th>\n",
       "      <th>Yes</th>\n",
       "    </tr>\n",
       "    <tr>\n",
       "      <th>ChestPainType</th>\n",
       "      <th></th>\n",
       "      <th></th>\n",
       "    </tr>\n",
       "  </thead>\n",
       "  <tbody>\n",
       "    <tr>\n",
       "      <th>ASY</th>\n",
       "      <td>20.967742</td>\n",
       "      <td>79.032258</td>\n",
       "    </tr>\n",
       "    <tr>\n",
       "      <th>ATA</th>\n",
       "      <td>86.127168</td>\n",
       "      <td>13.872832</td>\n",
       "    </tr>\n",
       "    <tr>\n",
       "      <th>NAP</th>\n",
       "      <td>64.532020</td>\n",
       "      <td>35.467980</td>\n",
       "    </tr>\n",
       "    <tr>\n",
       "      <th>TA</th>\n",
       "      <td>56.521739</td>\n",
       "      <td>43.478261</td>\n",
       "    </tr>\n",
       "  </tbody>\n",
       "</table>\n",
       "</div>"
      ],
      "text/plain": [
       "HeartDisease          No        Yes\n",
       "ChestPainType                      \n",
       "ASY            20.967742  79.032258\n",
       "ATA            86.127168  13.872832\n",
       "NAP            64.532020  35.467980\n",
       "TA             56.521739  43.478261"
      ]
     },
     "execution_count": 45,
     "metadata": {},
     "output_type": "execute_result"
    }
   ],
   "source": [
    "grouped_data = grouped_data.div(grouped_data.sum(axis=1), axis=0)*100\n",
    "grouped_data"
   ]
  },
  {
   "cell_type": "code",
   "execution_count": 46,
   "id": "208e0171",
   "metadata": {},
   "outputs": [
    {
     "data": {
      "image/png": "[encoded data removed]",
      "text/plain": [
       "<Figure size 1440x1440 with 1 Axes>"
      ]
     },
     "metadata": {},
     "output_type": "display_data"
    }
   ],
   "source": [
    "# Graph\n",
    "g1 = sns.countplot(data = data , x = \"ChestPainType\" , hue = \"HeartDisease\").set(title = 'Heart Disease Count by ChestPainType' )"
   ]
  },
  {
   "cell_type": "markdown",
   "id": "16ec6495",
   "metadata": {},
   "source": [
    "### <font color='Blue'>Observation:</font><br>\n",
    "**>&emsp;From the above two Grouped data we can say that most commot type of chest pain is Asymptomatic Chest Pain(ASY) which is most related to HeartDisease about 79% of the patient who have this kind of chest pain are suffering from heart Disease**<br>\n",
    "**>&emsp;Second most common type of chest pain is Atypical Angina(ATA), this type of chest pain is not linked to Heart Disease as of ASY pain is here about 86% patients are not linked with any Heart Disease and about 24 out 173 patients who have this pain have heart Disease, this number is pretty low.**"
   ]
  },
  {
   "cell_type": "markdown",
   "id": "2460f8ca",
   "metadata": {},
   "source": [
    "**<font color='red'>C)&emsp;Let's see how RestingECG is related to Heart Disease</font>**"
   ]
  },
  {
   "cell_type": "code",
   "execution_count": 47,
   "id": "e2d92307",
   "metadata": {},
   "outputs": [
    {
     "data": {
      "text/html": [
       "<div>\n",
       "<style scoped>\n",
       "    .dataframe tbody tr th:only-of-type {\n",
       "        vertical-align: middle;\n",
       "    }\n",
       "\n",
       "    .dataframe tbody tr th {\n",
       "        vertical-align: top;\n",
       "    }\n",
       "\n",
       "    .dataframe thead th {\n",
       "        text-align: right;\n",
       "    }\n",
       "</style>\n",
       "<table border=\"1\" class=\"dataframe\">\n",
       "  <thead>\n",
       "    <tr style=\"text-align: right;\">\n",
       "      <th>HeartDisease</th>\n",
       "      <th>No</th>\n",
       "      <th>Yes</th>\n",
       "    </tr>\n",
       "    <tr>\n",
       "      <th>RestingECG</th>\n",
       "      <th></th>\n",
       "      <th></th>\n",
       "    </tr>\n",
       "  </thead>\n",
       "  <tbody>\n",
       "    <tr>\n",
       "      <th>LVH</th>\n",
       "      <td>82</td>\n",
       "      <td>106</td>\n",
       "    </tr>\n",
       "    <tr>\n",
       "      <th>Normal</th>\n",
       "      <td>267</td>\n",
       "      <td>285</td>\n",
       "    </tr>\n",
       "    <tr>\n",
       "      <th>ST</th>\n",
       "      <td>61</td>\n",
       "      <td>117</td>\n",
       "    </tr>\n",
       "  </tbody>\n",
       "</table>\n",
       "</div>"
      ],
      "text/plain": [
       "HeartDisease   No  Yes\n",
       "RestingECG            \n",
       "LVH            82  106\n",
       "Normal        267  285\n",
       "ST             61  117"
      ]
     },
     "execution_count": 47,
     "metadata": {},
     "output_type": "execute_result"
    }
   ],
   "source": [
    "grouped_data = d2.groupby(['RestingECG' , 'HeartDisease']).size().unstack()\n",
    "grouped_data"
   ]
  },
  {
   "cell_type": "code",
   "execution_count": 48,
   "id": "a16ec4dd",
   "metadata": {
    "scrolled": true
   },
   "outputs": [
    {
     "data": {
      "text/html": [
       "<div>\n",
       "<style scoped>\n",
       "    .dataframe tbody tr th:only-of-type {\n",
       "        vertical-align: middle;\n",
       "    }\n",
       "\n",
       "    .dataframe tbody tr th {\n",
       "        vertical-align: top;\n",
       "    }\n",
       "\n",
       "    .dataframe thead th {\n",
       "        text-align: right;\n",
       "    }\n",
       "</style>\n",
       "<table border=\"1\" class=\"dataframe\">\n",
       "  <thead>\n",
       "    <tr style=\"text-align: right;\">\n",
       "      <th>HeartDisease</th>\n",
       "      <th>No</th>\n",
       "      <th>Yes</th>\n",
       "    </tr>\n",
       "    <tr>\n",
       "      <th>RestingECG</th>\n",
       "      <th></th>\n",
       "      <th></th>\n",
       "    </tr>\n",
       "  </thead>\n",
       "  <tbody>\n",
       "    <tr>\n",
       "      <th>LVH</th>\n",
       "      <td>43.617021</td>\n",
       "      <td>56.382979</td>\n",
       "    </tr>\n",
       "    <tr>\n",
       "      <th>Normal</th>\n",
       "      <td>48.369565</td>\n",
       "      <td>51.630435</td>\n",
       "    </tr>\n",
       "    <tr>\n",
       "      <th>ST</th>\n",
       "      <td>34.269663</td>\n",
       "      <td>65.730337</td>\n",
       "    </tr>\n",
       "  </tbody>\n",
       "</table>\n",
       "</div>"
      ],
      "text/plain": [
       "HeartDisease         No        Yes\n",
       "RestingECG                        \n",
       "LVH           43.617021  56.382979\n",
       "Normal        48.369565  51.630435\n",
       "ST            34.269663  65.730337"
      ]
     },
     "execution_count": 48,
     "metadata": {},
     "output_type": "execute_result"
    }
   ],
   "source": [
    "grouped_data = grouped_data.div(grouped_data.sum(axis=1), axis=0)*100\n",
    "grouped_data"
   ]
  },
  {
   "cell_type": "code",
   "execution_count": 49,
   "id": "beda62e4",
   "metadata": {
    "scrolled": true
   },
   "outputs": [
    {
     "data": {
      "image/png": "[encoded data removed]",
      "text/plain": [
       "<Figure size 1440x1440 with 1 Axes>"
      ]
     },
     "metadata": {},
     "output_type": "display_data"
    }
   ],
   "source": [
    "# Graph\n",
    "g1 = sns.countplot(data = data , x = \"RestingECG\" , hue = \"HeartDisease\").set(title = 'Heart Disease Count by RestingECG' )"
   ]
  },
  {
   "cell_type": "markdown",
   "id": "e56c916d",
   "metadata": {},
   "source": [
    "### <font color='Blue'>Observation:</font><br>\n",
    "**>&emsp; From the above two grouped data and the Graph it is clearly evident that, most of the people have Heart Disease weather they have Normal, ST, or LVH Resting ECG.**<br>\n",
    "**>&emsp;But people with ST abnormality have more chance that they have Heart Disease which comes to around 66% of the ST abnormalilty patients.**"
   ]
  },
  {
   "cell_type": "markdown",
   "id": "b6976ed9",
   "metadata": {},
   "source": [
    "**<font color='red'>d)&emsp;Let's see how ST_Slope is related to Heart Disease</font>**"
   ]
  },
  {
   "cell_type": "code",
   "execution_count": 50,
   "id": "d1174c28",
   "metadata": {},
   "outputs": [
    {
     "data": {
      "text/html": [
       "<div>\n",
       "<style scoped>\n",
       "    .dataframe tbody tr th:only-of-type {\n",
       "        vertical-align: middle;\n",
       "    }\n",
       "\n",
       "    .dataframe tbody tr th {\n",
       "        vertical-align: top;\n",
       "    }\n",
       "\n",
       "    .dataframe thead th {\n",
       "        text-align: right;\n",
       "    }\n",
       "</style>\n",
       "<table border=\"1\" class=\"dataframe\">\n",
       "  <thead>\n",
       "    <tr style=\"text-align: right;\">\n",
       "      <th>HeartDisease</th>\n",
       "      <th>No</th>\n",
       "      <th>Yes</th>\n",
       "    </tr>\n",
       "    <tr>\n",
       "      <th>ST_Slope</th>\n",
       "      <th></th>\n",
       "      <th></th>\n",
       "    </tr>\n",
       "  </thead>\n",
       "  <tbody>\n",
       "    <tr>\n",
       "      <th>Down</th>\n",
       "      <td>14</td>\n",
       "      <td>49</td>\n",
       "    </tr>\n",
       "    <tr>\n",
       "      <th>Flat</th>\n",
       "      <td>79</td>\n",
       "      <td>381</td>\n",
       "    </tr>\n",
       "    <tr>\n",
       "      <th>Up</th>\n",
       "      <td>317</td>\n",
       "      <td>78</td>\n",
       "    </tr>\n",
       "  </tbody>\n",
       "</table>\n",
       "</div>"
      ],
      "text/plain": [
       "HeartDisease   No  Yes\n",
       "ST_Slope              \n",
       "Down           14   49\n",
       "Flat           79  381\n",
       "Up            317   78"
      ]
     },
     "execution_count": 50,
     "metadata": {},
     "output_type": "execute_result"
    }
   ],
   "source": [
    "grouped_data = d2.groupby(['ST_Slope' , 'HeartDisease']).size().unstack()\n",
    "grouped_data"
   ]
  },
  {
   "cell_type": "code",
   "execution_count": 51,
   "id": "dcc028ab",
   "metadata": {},
   "outputs": [
    {
     "data": {
      "text/html": [
       "<div>\n",
       "<style scoped>\n",
       "    .dataframe tbody tr th:only-of-type {\n",
       "        vertical-align: middle;\n",
       "    }\n",
       "\n",
       "    .dataframe tbody tr th {\n",
       "        vertical-align: top;\n",
       "    }\n",
       "\n",
       "    .dataframe thead th {\n",
       "        text-align: right;\n",
       "    }\n",
       "</style>\n",
       "<table border=\"1\" class=\"dataframe\">\n",
       "  <thead>\n",
       "    <tr style=\"text-align: right;\">\n",
       "      <th>HeartDisease</th>\n",
       "      <th>No</th>\n",
       "      <th>Yes</th>\n",
       "    </tr>\n",
       "    <tr>\n",
       "      <th>ST_Slope</th>\n",
       "      <th></th>\n",
       "      <th></th>\n",
       "    </tr>\n",
       "  </thead>\n",
       "  <tbody>\n",
       "    <tr>\n",
       "      <th>Down</th>\n",
       "      <td>22.222222</td>\n",
       "      <td>77.777778</td>\n",
       "    </tr>\n",
       "    <tr>\n",
       "      <th>Flat</th>\n",
       "      <td>17.173913</td>\n",
       "      <td>82.826087</td>\n",
       "    </tr>\n",
       "    <tr>\n",
       "      <th>Up</th>\n",
       "      <td>80.253165</td>\n",
       "      <td>19.746835</td>\n",
       "    </tr>\n",
       "  </tbody>\n",
       "</table>\n",
       "</div>"
      ],
      "text/plain": [
       "HeartDisease         No        Yes\n",
       "ST_Slope                          \n",
       "Down          22.222222  77.777778\n",
       "Flat          17.173913  82.826087\n",
       "Up            80.253165  19.746835"
      ]
     },
     "execution_count": 51,
     "metadata": {},
     "output_type": "execute_result"
    }
   ],
   "source": [
    "grouped_data = grouped_data.div(grouped_data.sum(axis=1), axis=0)*100\n",
    "grouped_data"
   ]
  },
  {
   "cell_type": "code",
   "execution_count": 52,
   "id": "4ba609ba",
   "metadata": {},
   "outputs": [
    {
     "data": {
      "image/png": "[encoded data removed]",
      "text/plain": [
       "<Figure size 1440x1440 with 1 Axes>"
      ]
     },
     "metadata": {},
     "output_type": "display_data"
    }
   ],
   "source": [
    "# Graph\n",
    "g1 = sns.countplot(data = data , x = \"ST_Slope\" , hue = \"HeartDisease\").set(title = 'Heart Disease Count by ST_Slope' )"
   ]
  },
  {
   "cell_type": "markdown",
   "id": "f5d1bc70",
   "metadata": {},
   "source": [
    "### <font color='Blue'>Observation:</font><br>\n",
    "\n",
    "**>&emsp;Patients with Flat ST_Slope are more in numbers and also most of them have Heart Disease that is 82% of patients with flat ST_Slope have heart Disease. ~77% of patients with Down ST_Slope have heart Disease.Hence, we can say that Down and Flat ST_Slope are more related to Heart Disease.**<br>"
   ]
  },
  {
   "cell_type": "markdown",
   "id": "7b1c9c75",
   "metadata": {},
   "source": [
    "**<font color='red'>e)&emsp;Let's see how Exercise Angina is related to Heart Disease</font>**"
   ]
  },
  {
   "cell_type": "code",
   "execution_count": 53,
   "id": "819db3c7",
   "metadata": {},
   "outputs": [
    {
     "data": {
      "text/html": [
       "<div>\n",
       "<style scoped>\n",
       "    .dataframe tbody tr th:only-of-type {\n",
       "        vertical-align: middle;\n",
       "    }\n",
       "\n",
       "    .dataframe tbody tr th {\n",
       "        vertical-align: top;\n",
       "    }\n",
       "\n",
       "    .dataframe thead th {\n",
       "        text-align: right;\n",
       "    }\n",
       "</style>\n",
       "<table border=\"1\" class=\"dataframe\">\n",
       "  <thead>\n",
       "    <tr style=\"text-align: right;\">\n",
       "      <th>HeartDisease</th>\n",
       "      <th>No</th>\n",
       "      <th>Yes</th>\n",
       "    </tr>\n",
       "    <tr>\n",
       "      <th>ExerciseAngina</th>\n",
       "      <th></th>\n",
       "      <th></th>\n",
       "    </tr>\n",
       "  </thead>\n",
       "  <tbody>\n",
       "    <tr>\n",
       "      <th>No</th>\n",
       "      <td>355</td>\n",
       "      <td>192</td>\n",
       "    </tr>\n",
       "    <tr>\n",
       "      <th>Yes</th>\n",
       "      <td>55</td>\n",
       "      <td>316</td>\n",
       "    </tr>\n",
       "  </tbody>\n",
       "</table>\n",
       "</div>"
      ],
      "text/plain": [
       "HeartDisease     No  Yes\n",
       "ExerciseAngina          \n",
       "No              355  192\n",
       "Yes              55  316"
      ]
     },
     "execution_count": 53,
     "metadata": {},
     "output_type": "execute_result"
    }
   ],
   "source": [
    "grouped_data = d2.groupby(['ExerciseAngina' , 'HeartDisease']).size().unstack()\n",
    "grouped_data"
   ]
  },
  {
   "cell_type": "code",
   "execution_count": 54,
   "id": "6fa6c3f4",
   "metadata": {
    "scrolled": false
   },
   "outputs": [
    {
     "data": {
      "text/html": [
       "<div>\n",
       "<style scoped>\n",
       "    .dataframe tbody tr th:only-of-type {\n",
       "        vertical-align: middle;\n",
       "    }\n",
       "\n",
       "    .dataframe tbody tr th {\n",
       "        vertical-align: top;\n",
       "    }\n",
       "\n",
       "    .dataframe thead th {\n",
       "        text-align: right;\n",
       "    }\n",
       "</style>\n",
       "<table border=\"1\" class=\"dataframe\">\n",
       "  <thead>\n",
       "    <tr style=\"text-align: right;\">\n",
       "      <th>HeartDisease</th>\n",
       "      <th>No</th>\n",
       "      <th>Yes</th>\n",
       "    </tr>\n",
       "    <tr>\n",
       "      <th>ExerciseAngina</th>\n",
       "      <th></th>\n",
       "      <th></th>\n",
       "    </tr>\n",
       "  </thead>\n",
       "  <tbody>\n",
       "    <tr>\n",
       "      <th>No</th>\n",
       "      <td>64.899452</td>\n",
       "      <td>35.100548</td>\n",
       "    </tr>\n",
       "    <tr>\n",
       "      <th>Yes</th>\n",
       "      <td>14.824798</td>\n",
       "      <td>85.175202</td>\n",
       "    </tr>\n",
       "  </tbody>\n",
       "</table>\n",
       "</div>"
      ],
      "text/plain": [
       "HeartDisease           No        Yes\n",
       "ExerciseAngina                      \n",
       "No              64.899452  35.100548\n",
       "Yes             14.824798  85.175202"
      ]
     },
     "execution_count": 54,
     "metadata": {},
     "output_type": "execute_result"
    }
   ],
   "source": [
    "grouped_data = grouped_data.div(grouped_data.sum(axis=1), axis=0)*100\n",
    "grouped_data"
   ]
  },
  {
   "cell_type": "code",
   "execution_count": 55,
   "id": "eaf695ce",
   "metadata": {},
   "outputs": [
    {
     "data": {
      "image/png": "[encoded data removed]",
      "text/plain": [
       "<Figure size 1440x1440 with 1 Axes>"
      ]
     },
     "metadata": {},
     "output_type": "display_data"
    }
   ],
   "source": [
    "# Graph\n",
    "g1 = sns.countplot(data = data , x = \"ExerciseAngina\" , hue = \"HeartDisease\").set(title = 'Heart Disease Count by ExerciseAngina' )"
   ]
  },
  {
   "cell_type": "markdown",
   "id": "3740616c",
   "metadata": {},
   "source": [
    "### <font color='Blue'>Observation:</font><br>\n",
    "\n",
    "**>&emsp;People who feels chest Pain induced by Exercise(ExerciseAngina) it is higly likely that they are suffering from Heart Disease here in the above statistics we can see that about 85% of the people who have ExerciseAngina have heart Disease.**<br>\n",
    "**>&emsp;Whereas only few which is about 35% of people without ExerciseAngina have heart Diseasem, which is very small as compared to other's with ExerciseAngina**"
   ]
  },
  {
   "cell_type": "markdown",
   "id": "e63a857d",
   "metadata": {},
   "source": [
    "**<font color='red'>f)&emsp;Let's see how Age is related to Heart Disease</font>**"
   ]
  },
  {
   "cell_type": "code",
   "execution_count": 56,
   "id": "078d7efc",
   "metadata": {
    "scrolled": true
   },
   "outputs": [
    {
     "data": {
      "image/png": "[encoded data removed]",
      "text/plain": [
       "<Figure size 1440x1440 with 1 Axes>"
      ]
     },
     "metadata": {},
     "output_type": "display_data"
    }
   ],
   "source": [
    "df = pd.DataFrame(data)\n",
    "p = sns.violinplot(data = df , x = \"HeartDisease\" , y = \"Age\")\n",
    "p.set(title = \"Age Distribution by Heart Disease\" , xlabel = \"HeartDisease\" , ylabel = \"Age Distribution\" , xticklabels = [\"No\" , \"Yes\"]);"
   ]
  },
  {
   "cell_type": "markdown",
   "id": "af5f59dd",
   "metadata": {},
   "source": [
    "**To support the above plot, Including relevent statistics between Age and HeartDiseased Patient**"
   ]
  },
  {
   "cell_type": "code",
   "execution_count": 57,
   "id": "15bbca40",
   "metadata": {},
   "outputs": [
    {
     "data": {
      "text/plain": [
       "       HeartDisease\n",
       "count  No              410.000000\n",
       "       Yes             508.000000\n",
       "mean   No               50.551220\n",
       "       Yes              55.899606\n",
       "std    No                9.444915\n",
       "       Yes               8.727056\n",
       "min    No               28.000000\n",
       "       Yes              31.000000\n",
       "25%    No               43.000000\n",
       "       Yes              51.000000\n",
       "50%    No               51.000000\n",
       "       Yes              57.000000\n",
       "75%    No               57.000000\n",
       "       Yes              62.000000\n",
       "max    No               76.000000\n",
       "       Yes              77.000000\n",
       "dtype: float64"
      ]
     },
     "execution_count": 57,
     "metadata": {},
     "output_type": "execute_result"
    }
   ],
   "source": [
    "df.groupby(\"HeartDisease\").Age.describe().unstack(level = 0)"
   ]
  },
  {
   "cell_type": "markdown",
   "id": "4370c545",
   "metadata": {},
   "source": [
    "### <font color='Blue'>Observation:</font><br>\n",
    "**Statisitics and violinplot data is all similar we can see that the youngest patient who have heart disease is 31 yrs old, and the oldest is 77 yrs old, while youngest patient who don't have heart disease is 28 and the oldest is 76.**<br>\n",
    "**The above vilonplot shows bimodal distribution of patients who have heart disease and who dont have,and we can see that the old aged people have spread out violin plot(orange) which means greater probability as result we can say that older in our dataset have the most heart disease.**"
   ]
  },
  {
   "cell_type": "markdown",
   "id": "6b4ff6c1",
   "metadata": {},
   "source": [
    "**<font color='red'>g)&emsp;Let's see how Sex , ChestPain Type is related to Heart Disease</font>**"
   ]
  },
  {
   "cell_type": "code",
   "execution_count": 58,
   "id": "8ad2d9ef",
   "metadata": {},
   "outputs": [
    {
     "data": {
      "text/html": [
       "<div>\n",
       "<style scoped>\n",
       "    .dataframe tbody tr th:only-of-type {\n",
       "        vertical-align: middle;\n",
       "    }\n",
       "\n",
       "    .dataframe tbody tr th {\n",
       "        vertical-align: top;\n",
       "    }\n",
       "\n",
       "    .dataframe thead th {\n",
       "        text-align: right;\n",
       "    }\n",
       "</style>\n",
       "<table border=\"1\" class=\"dataframe\">\n",
       "  <thead>\n",
       "    <tr style=\"text-align: right;\">\n",
       "      <th></th>\n",
       "      <th>HeartDisease</th>\n",
       "      <th>No</th>\n",
       "      <th>Yes</th>\n",
       "    </tr>\n",
       "    <tr>\n",
       "      <th>Sex</th>\n",
       "      <th>ChestPainType</th>\n",
       "      <th></th>\n",
       "      <th></th>\n",
       "    </tr>\n",
       "  </thead>\n",
       "  <tbody>\n",
       "    <tr>\n",
       "      <th rowspan=\"4\" valign=\"top\">Female</th>\n",
       "      <th>ASY</th>\n",
       "      <td>31</td>\n",
       "      <td>39</td>\n",
       "    </tr>\n",
       "    <tr>\n",
       "      <th>ATA</th>\n",
       "      <td>56</td>\n",
       "      <td>4</td>\n",
       "    </tr>\n",
       "    <tr>\n",
       "      <th>NAP</th>\n",
       "      <td>47</td>\n",
       "      <td>6</td>\n",
       "    </tr>\n",
       "    <tr>\n",
       "      <th>TA</th>\n",
       "      <td>9</td>\n",
       "      <td>1</td>\n",
       "    </tr>\n",
       "    <tr>\n",
       "      <th rowspan=\"4\" valign=\"top\">Male</th>\n",
       "      <th>ASY</th>\n",
       "      <td>73</td>\n",
       "      <td>353</td>\n",
       "    </tr>\n",
       "    <tr>\n",
       "      <th>ATA</th>\n",
       "      <td>93</td>\n",
       "      <td>20</td>\n",
       "    </tr>\n",
       "    <tr>\n",
       "      <th>NAP</th>\n",
       "      <td>84</td>\n",
       "      <td>66</td>\n",
       "    </tr>\n",
       "    <tr>\n",
       "      <th>TA</th>\n",
       "      <td>17</td>\n",
       "      <td>19</td>\n",
       "    </tr>\n",
       "  </tbody>\n",
       "</table>\n",
       "</div>"
      ],
      "text/plain": [
       "HeartDisease          No  Yes\n",
       "Sex    ChestPainType         \n",
       "Female ASY            31   39\n",
       "       ATA            56    4\n",
       "       NAP            47    6\n",
       "       TA              9    1\n",
       "Male   ASY            73  353\n",
       "       ATA            93   20\n",
       "       NAP            84   66\n",
       "       TA             17   19"
      ]
     },
     "execution_count": 58,
     "metadata": {},
     "output_type": "execute_result"
    }
   ],
   "source": [
    "grouped_data = d2.groupby(['Sex'  , 'ChestPainType' , 'HeartDisease']).size().unstack()\n",
    "grouped_data"
   ]
  },
  {
   "cell_type": "code",
   "execution_count": 59,
   "id": "bf43fa7b",
   "metadata": {},
   "outputs": [
    {
     "data": {
      "text/html": [
       "<div>\n",
       "<style scoped>\n",
       "    .dataframe tbody tr th:only-of-type {\n",
       "        vertical-align: middle;\n",
       "    }\n",
       "\n",
       "    .dataframe tbody tr th {\n",
       "        vertical-align: top;\n",
       "    }\n",
       "\n",
       "    .dataframe thead th {\n",
       "        text-align: right;\n",
       "    }\n",
       "</style>\n",
       "<table border=\"1\" class=\"dataframe\">\n",
       "  <thead>\n",
       "    <tr style=\"text-align: right;\">\n",
       "      <th></th>\n",
       "      <th>HeartDisease</th>\n",
       "      <th>No</th>\n",
       "      <th>Yes</th>\n",
       "    </tr>\n",
       "    <tr>\n",
       "      <th>Sex</th>\n",
       "      <th>ChestPainType</th>\n",
       "      <th></th>\n",
       "      <th></th>\n",
       "    </tr>\n",
       "  </thead>\n",
       "  <tbody>\n",
       "    <tr>\n",
       "      <th rowspan=\"4\" valign=\"top\">Female</th>\n",
       "      <th>ASY</th>\n",
       "      <td>44.285714</td>\n",
       "      <td>55.714286</td>\n",
       "    </tr>\n",
       "    <tr>\n",
       "      <th>ATA</th>\n",
       "      <td>93.333333</td>\n",
       "      <td>6.666667</td>\n",
       "    </tr>\n",
       "    <tr>\n",
       "      <th>NAP</th>\n",
       "      <td>88.679245</td>\n",
       "      <td>11.320755</td>\n",
       "    </tr>\n",
       "    <tr>\n",
       "      <th>TA</th>\n",
       "      <td>90.000000</td>\n",
       "      <td>10.000000</td>\n",
       "    </tr>\n",
       "    <tr>\n",
       "      <th rowspan=\"4\" valign=\"top\">Male</th>\n",
       "      <th>ASY</th>\n",
       "      <td>17.136150</td>\n",
       "      <td>82.863850</td>\n",
       "    </tr>\n",
       "    <tr>\n",
       "      <th>ATA</th>\n",
       "      <td>82.300885</td>\n",
       "      <td>17.699115</td>\n",
       "    </tr>\n",
       "    <tr>\n",
       "      <th>NAP</th>\n",
       "      <td>56.000000</td>\n",
       "      <td>44.000000</td>\n",
       "    </tr>\n",
       "    <tr>\n",
       "      <th>TA</th>\n",
       "      <td>47.222222</td>\n",
       "      <td>52.777778</td>\n",
       "    </tr>\n",
       "  </tbody>\n",
       "</table>\n",
       "</div>"
      ],
      "text/plain": [
       "HeartDisease                 No        Yes\n",
       "Sex    ChestPainType                      \n",
       "Female ASY            44.285714  55.714286\n",
       "       ATA            93.333333   6.666667\n",
       "       NAP            88.679245  11.320755\n",
       "       TA             90.000000  10.000000\n",
       "Male   ASY            17.136150  82.863850\n",
       "       ATA            82.300885  17.699115\n",
       "       NAP            56.000000  44.000000\n",
       "       TA             47.222222  52.777778"
      ]
     },
     "execution_count": 59,
     "metadata": {},
     "output_type": "execute_result"
    }
   ],
   "source": [
    "grouped_data = grouped_data.div(grouped_data.sum(axis=1), axis=0)*100\n",
    "grouped_data"
   ]
  },
  {
   "cell_type": "markdown",
   "id": "a2adcdec",
   "metadata": {},
   "source": [
    "### <font color='Blue'>Observation:</font><br>\n",
    "**We already showed that most of the patients in our dataset have ASY chest pain so in the above statisitics we combined ChestPainType and Sex to see how they both relate to Heart Disease**<br>\n",
    "### <font color = \"skyblue\">Females:</font>\n",
    "**We can see Females in our dataset have less probability of Heart Disease. However, in the female only dataset most of the females have higher probabilty of Asymptomatic chest pain which is a mostly related to Heart Disease which 55.7% of ASY chestpain in female patients.**\n",
    "<br>\n",
    "**ATA , NAP , TA these chest pain does not have significant link with Chest Pain in females, from the statistics we can see 93% , 88.6% and 90% respectively dont have heart disease.**\n",
    "<br>\n",
    "### <font color = \"skyblue\">Males:\n",
    "**In males we can see most males have ASY chest pain which is moslty linked with heart disease , about 82.8% of males who have ASY chest pain have heart disease.**<br></font>"
   ]
  },
  {
   "cell_type": "markdown",
   "id": "8be3bc9f",
   "metadata": {},
   "source": [
    "**<font color='red'>h)&emsp;Let's see how Age , MaxHR and RestingBP is related to Heart Disease</font>**"
   ]
  },
  {
   "cell_type": "code",
   "execution_count": 60,
   "id": "876a4cf8",
   "metadata": {},
   "outputs": [
    {
     "data": {
      "image/png": "[encoded data removed]",
      "text/plain": [
       "<Figure size 864x576 with 1 Axes>"
      ]
     },
     "metadata": {},
     "output_type": "display_data"
    }
   ],
   "source": [
    "from matplotlib.colors import ListedColormap\n",
    "\n",
    "data.HeartDisease.replace({'Yes': 1 , 'No': 0} , inplace = True)\n",
    "# figure size\n",
    "fig = plt.figure(figsize=(12,8))\n",
    "graph = fig.add_subplot(111, projection = '3d')\n",
    "\n",
    "# data's\n",
    "x = data['RestingBP']\n",
    "y = data['MaxHR']\n",
    "z = data['Age']\n",
    "\n",
    "#labels\n",
    "graph.set_xlabel(\"RestingBP\")\n",
    "graph.set_ylabel(\"MaxHR\")\n",
    "graph.set_zlabel(\"Age\")\n",
    "\n",
    "# colormap for seaborn\n",
    "cmap = ListedColormap(sns.color_palette(\"rocket\").as_hex())\n",
    "\n",
    "# plot\n",
    "grp = graph.scatter(x, y, z , c=data['HeartDisease'] , marker = 'o'  , cmap = cmap , alpha=1)\n",
    "plt.legend(*grp.legend_elements(), bbox_to_anchor=(1.05, 1), loc=2) # add legends \n",
    "\n",
    "\n",
    "plt.show()"
   ]
  },
  {
   "cell_type": "markdown",
   "id": "086c2980",
   "metadata": {},
   "source": [
    "### <font color='Blue'>Observation:</font><br>\n",
    "**Here Legend:\n",
    "<br>0 is No \"Heart Disease\" : Black Color dots<br>1 is Yes \"Heart Disease\" : Orange color**\n",
    "<br><br>\n",
    "**As you can see as most of the prople who have heart disease have high Heart Rate and Resting Blood Pressure.Also people who have healthy heart have and high Max Heart rate have normal Resting Blood Pressure.**<br>"
   ]
  },
  {
   "cell_type": "markdown",
   "id": "603a91df",
   "metadata": {},
   "source": [
    "# <font color = \"Red\">Conclusion </font>"
   ]
  },
  {
   "cell_type": "markdown",
   "id": "6d134f8a",
   "metadata": {},
   "source": [
    "**>&emsp;With this we end our Assignment 1 EDA of Heart Disease, where our target variable was Heart Disease and we discovered how different variables(risk factors) affect Heart Disease, We saw that Age is a Major factor which is related to Heart Disease.** <br>\n",
    "**>&emsp;Asymptomatic Chest Pain is also highly related to Heart Disease.**<br>\n",
    "**>&emsp;Having heart disease reduces efficiency of functioning of heart as a result max Heart Rate increases and Resting BP increases.**<br>\n",
    "**>&emsp;Males in our dataset have the most heart disease as compared to females.<br>**\n"
   ]
  },
  {
   "cell_type": "markdown",
   "id": "ab824b0d",
   "metadata": {},
   "source": [
    "## References\n",
    "[1] https://my.clevelandclinic.org/health/diseases/21493-cardiovascular-disease \n",
    "<br><br>\n",
    "[2] https://www.who.int/news-room/fact-sheets/detail/cardiovascular-diseases-(cvds)\n",
    "<br><br>\n",
    "[3] https://www.webmd.com/heart-disease/risk-factors-for-heart-disease\n"
   ]
  }
 ],
 "metadata": {
  "kernelspec": {
   "display_name": "Python 3 (ipykernel)",
   "language": "python",
   "name": "python3"
  },
  "language_info": {
   "codemirror_mode": {
    "name": "ipython",
    "version": 3
   },
   "file_extension": ".py",
   "mimetype": "text/x-python",
   "name": "python",
   "nbconvert_exporter": "python",
   "pygments_lexer": "ipython3",
   "version": "3.9.12"
  }
 },
 "nbformat": 4,
 "nbformat_minor": 5
}
